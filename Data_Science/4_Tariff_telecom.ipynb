{
 "cells": [
  {
   "cell_type": "markdown",
   "metadata": {},
   "source": [
    "# Исследование тарифных планов мобильного оператора\n",
    "\n",
    "Оператор мобильной связи предлагает клиентам два тарифных плана: «Смарт» и «Ультра». Нужно понять, какой тариф приносит больше денег.\n",
    "\n",
    "Предстоит сделать предварительный анализ тарифов на небольшой выборке клиентов. В вашем распоряжении данные 500 пользователей мобильного оператора: кто они, откуда, каким тарифом пользуются, сколько звонков и сообщений каждый отправил за 2018 год.\n",
    "\n",
    "Бизнес-задача -  Нужно проанализировать поведение клиентов и сделать вывод — какой тариф приносит больше денег.\n",
    "\n",
    "Задача DS - По выборке определить параметры генеральной совокупности.\n",
    "\n",
    "#### Пояснение к датасету:\n",
    "\n",
    "Таблица users (информация о пользователях):\n",
    "\n",
    "    user_id — уникальный идентификатор пользователя\n",
    "    first_name — имя пользователя\n",
    "    last_name — фамилия пользователя\n",
    "    age — возраст пользователя (годы)\n",
    "    reg_date — дата подключения тарифа (день, месяц, год)\n",
    "    churn_date — дата прекращения пользования тарифом (если значение пропущено, то тариф ещё действовал на момент выгрузки данных)\n",
    "    city — город проживания пользователя\n",
    "    tariff — название тарифного плана\n",
    "    \n",
    "Таблица calls (информация о звонках):\n",
    "\n",
    "    id — уникальный номер звонка\n",
    "    call_date — дата звонка\n",
    "    duration — длительность звонка в минутах\n",
    "    user_id — идентификатор пользователя, сделавшего звонок\n",
    "\n",
    "Таблица messages (информация о сообщениях):\n",
    "\n",
    "    id — уникальный номер сообщения\n",
    "    message_date — дата сообщения\n",
    "    user_id — идентификатор пользователя, отправившего сообщение\n",
    "\n",
    "Таблица internet (информация об интернет-сессиях):\n",
    "\n",
    "    id — уникальный номер сессии\n",
    "    mb_used — объём потраченного за сессию интернет-трафика (в мегабайтах)\n",
    "    session_date — дата интернет-сессии\n",
    "    user_id — идентификатор пользователя\n",
    "\n",
    "Таблица tariffs (информация о тарифах):\n",
    "\n",
    "    tariff_name — название тарифа\n",
    "    rub_monthly_fee — ежемесячная абонентская плата в рублях\n",
    "    minutes_included — количество минут разговора в месяц, включённых в абонентскую плату\n",
    "    messages_included — количество сообщений в месяц, включённых в абонентскую плату\n",
    "    mb_per_month_included — объём интернет-трафика, включённого в абонентскую плату (в мегабайтах)\n",
    "    rub_per_minute — стоимость минуты разговора сверх тарифного пакета (например, если в тарифе 100 минут разговора в месяц, то со 101 минуты будет взиматься плата)\n",
    "    rub_per_message — стоимость отправки сообщения сверх тарифного пакета\n",
    "    rub_per_gb — стоимость дополнительного гигабайта интернет-трафика сверх тарифного пакета (1 гигабайт = 1024 мегабайта)"
   ]
  },
  {
   "cell_type": "markdown",
   "metadata": {},
   "source": [
    "## Шаг 1. Откроем файл с данными и изучим общую информацию"
   ]
  },
  {
   "cell_type": "code",
   "execution_count": 1,
   "metadata": {},
   "outputs": [
    {
     "name": "stdout",
     "output_type": "stream",
     "text": [
      "<class 'pandas.core.frame.DataFrame'>\n",
      "RangeIndex: 500 entries, 0 to 499\n",
      "Data columns (total 8 columns):\n",
      "user_id       500 non-null int64\n",
      "age           500 non-null int64\n",
      "churn_date    38 non-null object\n",
      "city          500 non-null object\n",
      "first_name    500 non-null object\n",
      "last_name     500 non-null object\n",
      "reg_date      500 non-null object\n",
      "tariff        500 non-null object\n",
      "dtypes: int64(2), object(6)\n",
      "memory usage: 31.4+ KB\n"
     ]
    }
   ],
   "source": [
    "import pandas as pd\n",
    "import numpy as np\n",
    "import matplotlib.pyplot as plt\n",
    "\n",
    "df_users = pd.read_csv('/datasets/users.csv')\n",
    "df_users.info()"
   ]
  },
  {
   "cell_type": "code",
   "execution_count": 2,
   "metadata": {},
   "outputs": [
    {
     "name": "stdout",
     "output_type": "stream",
     "text": [
      "<class 'pandas.core.frame.DataFrame'>\n",
      "RangeIndex: 202607 entries, 0 to 202606\n",
      "Data columns (total 4 columns):\n",
      "id           202607 non-null object\n",
      "call_date    202607 non-null object\n",
      "duration     202607 non-null float64\n",
      "user_id      202607 non-null int64\n",
      "dtypes: float64(1), int64(1), object(2)\n",
      "memory usage: 6.2+ MB\n"
     ]
    }
   ],
   "source": [
    "df_calls = pd.read_csv('/datasets/calls.csv')\n",
    "df_calls.info()"
   ]
  },
  {
   "cell_type": "code",
   "execution_count": 3,
   "metadata": {},
   "outputs": [
    {
     "name": "stdout",
     "output_type": "stream",
     "text": [
      "<class 'pandas.core.frame.DataFrame'>\n",
      "RangeIndex: 123036 entries, 0 to 123035\n",
      "Data columns (total 3 columns):\n",
      "id              123036 non-null object\n",
      "message_date    123036 non-null object\n",
      "user_id         123036 non-null int64\n",
      "dtypes: int64(1), object(2)\n",
      "memory usage: 2.8+ MB\n"
     ]
    }
   ],
   "source": [
    "df_messages = pd.read_csv('/datasets/messages.csv')\n",
    "df_messages.info()"
   ]
  },
  {
   "cell_type": "code",
   "execution_count": 4,
   "metadata": {},
   "outputs": [
    {
     "name": "stdout",
     "output_type": "stream",
     "text": [
      "<class 'pandas.core.frame.DataFrame'>\n",
      "RangeIndex: 149396 entries, 0 to 149395\n",
      "Data columns (total 5 columns):\n",
      "Unnamed: 0      149396 non-null int64\n",
      "id              149396 non-null object\n",
      "mb_used         149396 non-null float64\n",
      "session_date    149396 non-null object\n",
      "user_id         149396 non-null int64\n",
      "dtypes: float64(1), int64(2), object(2)\n",
      "memory usage: 5.7+ MB\n"
     ]
    }
   ],
   "source": [
    "df_internet = pd.read_csv('/datasets/internet.csv')\n",
    "df_internet.info()"
   ]
  },
  {
   "cell_type": "code",
   "execution_count": 5,
   "metadata": {},
   "outputs": [
    {
     "name": "stdout",
     "output_type": "stream",
     "text": [
      "<class 'pandas.core.frame.DataFrame'>\n",
      "RangeIndex: 2 entries, 0 to 1\n",
      "Data columns (total 8 columns):\n",
      "messages_included        2 non-null int64\n",
      "mb_per_month_included    2 non-null int64\n",
      "minutes_included         2 non-null int64\n",
      "rub_monthly_fee          2 non-null int64\n",
      "rub_per_gb               2 non-null int64\n",
      "rub_per_message          2 non-null int64\n",
      "rub_per_minute           2 non-null int64\n",
      "tariff_name              2 non-null object\n",
      "dtypes: int64(7), object(1)\n",
      "memory usage: 256.0+ bytes\n"
     ]
    }
   ],
   "source": [
    "df_tariffs = pd.read_csv('/datasets/tariffs.csv')\n",
    "df_tariffs.info()"
   ]
  },
  {
   "cell_type": "markdown",
   "metadata": {},
   "source": [
    "### Вывод\n",
    "\n",
    "У нас 4 таблицы, пропущенных данных нет, кроме churn_date, но это объяснимо. В датах не правильные типы данных и нужно выполить округление вверх по условию задачи. "
   ]
  },
  {
   "cell_type": "markdown",
   "metadata": {},
   "source": [
    "## Шаг 2. Подготовьте данные"
   ]
  },
  {
   "cell_type": "code",
   "execution_count": 6,
   "metadata": {},
   "outputs": [],
   "source": [
    "# Приведём данные к нужным типам. Исправим даты.\n",
    "\n",
    "df_users['reg_date'] = pd.to_datetime(df_users['reg_date'])\n",
    "df_users['churn_date'] = pd.to_datetime(df_users['churn_date'])\n",
    "df_calls['call_date'] = pd.to_datetime(df_calls['call_date'])\n",
    "df_messages['message_date'] = pd.to_datetime(df_messages['message_date'])\n",
    "df_internet['session_date'] = pd.to_datetime(df_internet['session_date'])\n",
    "\n",
    "# По условию округление вверх в длительности и Мб.\n",
    "\n",
    "df_calls['duration'] = np.around(df_calls['duration']).astype(int)\n",
    "df_internet['mb_used'] = np.around(df_internet['mb_used']).astype(int)"
   ]
  },
  {
   "cell_type": "code",
   "execution_count": 7,
   "metadata": {},
   "outputs": [],
   "source": [
    "# Исправим ошибки в данных. В df_internet удалим лишний столбец.\n",
    "\n",
    "df_internet.drop(df_internet.columns[0], axis='columns', inplace=True)"
   ]
  },
  {
   "cell_type": "code",
   "execution_count": 8,
   "metadata": {},
   "outputs": [],
   "source": [
    "# Удалим нулевые значения. Если бы мы считали, например, нагрузку на сеть, тогда это было бы важно, но мы считаем выручку.\n",
    "\n",
    "df_calls = df_calls[df_calls['duration'] > 0]\n",
    "df_internet = df_internet[df_internet['mb_used'] > 0]"
   ]
  },
  {
   "cell_type": "code",
   "execution_count": 9,
   "metadata": {},
   "outputs": [],
   "source": [
    "# Количество сделанных звонков и израсходованных минут разговора по месяцам для каждого пользователя.\n",
    "\n",
    "df_calls['call_month'] = df_calls['call_date'].dt.month\n",
    "\n",
    "df = (df_calls.pivot_table(index=['user_id', 'call_month'], values='duration', aggfunc=['sum', 'count'])\n",
    "                .reset_index())\n",
    "df.columns = ['user_id', 'month', 'duration_sum', 'duration_count']"
   ]
  },
  {
   "cell_type": "code",
   "execution_count": 10,
   "metadata": {},
   "outputs": [
    {
     "data": {
      "text/html": [
       "<div>\n",
       "<style scoped>\n",
       "    .dataframe tbody tr th:only-of-type {\n",
       "        vertical-align: middle;\n",
       "    }\n",
       "\n",
       "    .dataframe tbody tr th {\n",
       "        vertical-align: top;\n",
       "    }\n",
       "\n",
       "    .dataframe thead th {\n",
       "        text-align: right;\n",
       "    }\n",
       "</style>\n",
       "<table border=\"1\" class=\"dataframe\">\n",
       "  <thead>\n",
       "    <tr style=\"text-align: right;\">\n",
       "      <th></th>\n",
       "      <th>user_id</th>\n",
       "      <th>month</th>\n",
       "      <th>duration_sum</th>\n",
       "      <th>duration_count</th>\n",
       "      <th>message_count</th>\n",
       "    </tr>\n",
       "  </thead>\n",
       "  <tbody>\n",
       "    <tr>\n",
       "      <td>0</td>\n",
       "      <td>1000</td>\n",
       "      <td>5</td>\n",
       "      <td>149.0</td>\n",
       "      <td>16.0</td>\n",
       "      <td>22.0</td>\n",
       "    </tr>\n",
       "    <tr>\n",
       "      <td>1</td>\n",
       "      <td>1000</td>\n",
       "      <td>6</td>\n",
       "      <td>159.0</td>\n",
       "      <td>27.0</td>\n",
       "      <td>60.0</td>\n",
       "    </tr>\n",
       "    <tr>\n",
       "      <td>2</td>\n",
       "      <td>1000</td>\n",
       "      <td>7</td>\n",
       "      <td>319.0</td>\n",
       "      <td>39.0</td>\n",
       "      <td>75.0</td>\n",
       "    </tr>\n",
       "    <tr>\n",
       "      <td>3</td>\n",
       "      <td>1000</td>\n",
       "      <td>8</td>\n",
       "      <td>391.0</td>\n",
       "      <td>42.0</td>\n",
       "      <td>81.0</td>\n",
       "    </tr>\n",
       "    <tr>\n",
       "      <td>4</td>\n",
       "      <td>1000</td>\n",
       "      <td>9</td>\n",
       "      <td>439.0</td>\n",
       "      <td>45.0</td>\n",
       "      <td>57.0</td>\n",
       "    </tr>\n",
       "    <tr>\n",
       "      <td>...</td>\n",
       "      <td>...</td>\n",
       "      <td>...</td>\n",
       "      <td>...</td>\n",
       "      <td>...</td>\n",
       "      <td>...</td>\n",
       "    </tr>\n",
       "    <tr>\n",
       "      <td>3207</td>\n",
       "      <td>1489</td>\n",
       "      <td>8</td>\n",
       "      <td>NaN</td>\n",
       "      <td>NaN</td>\n",
       "      <td>17.0</td>\n",
       "    </tr>\n",
       "    <tr>\n",
       "      <td>3208</td>\n",
       "      <td>1489</td>\n",
       "      <td>9</td>\n",
       "      <td>NaN</td>\n",
       "      <td>NaN</td>\n",
       "      <td>32.0</td>\n",
       "    </tr>\n",
       "    <tr>\n",
       "      <td>3209</td>\n",
       "      <td>1489</td>\n",
       "      <td>10</td>\n",
       "      <td>NaN</td>\n",
       "      <td>NaN</td>\n",
       "      <td>21.0</td>\n",
       "    </tr>\n",
       "    <tr>\n",
       "      <td>3210</td>\n",
       "      <td>1489</td>\n",
       "      <td>11</td>\n",
       "      <td>NaN</td>\n",
       "      <td>NaN</td>\n",
       "      <td>20.0</td>\n",
       "    </tr>\n",
       "    <tr>\n",
       "      <td>3211</td>\n",
       "      <td>1489</td>\n",
       "      <td>12</td>\n",
       "      <td>NaN</td>\n",
       "      <td>NaN</td>\n",
       "      <td>35.0</td>\n",
       "    </tr>\n",
       "  </tbody>\n",
       "</table>\n",
       "<p>3212 rows × 5 columns</p>\n",
       "</div>"
      ],
      "text/plain": [
       "      user_id  month  duration_sum  duration_count  message_count\n",
       "0        1000      5         149.0            16.0           22.0\n",
       "1        1000      6         159.0            27.0           60.0\n",
       "2        1000      7         319.0            39.0           75.0\n",
       "3        1000      8         391.0            42.0           81.0\n",
       "4        1000      9         439.0            45.0           57.0\n",
       "...       ...    ...           ...             ...            ...\n",
       "3207     1489      8           NaN             NaN           17.0\n",
       "3208     1489      9           NaN             NaN           32.0\n",
       "3209     1489     10           NaN             NaN           21.0\n",
       "3210     1489     11           NaN             NaN           20.0\n",
       "3211     1489     12           NaN             NaN           35.0\n",
       "\n",
       "[3212 rows x 5 columns]"
      ]
     },
     "execution_count": 10,
     "metadata": {},
     "output_type": "execute_result"
    }
   ],
   "source": [
    "# Количество отправленных сообщений по месяцам для каждого пользователя.\n",
    "\n",
    "df_messages['message_month'] = df_messages['message_date'].dt.month\n",
    "\n",
    "df_messages_pvt = (df_messages.pivot_table(index=['user_id', 'message_month'], values='message_date', aggfunc='count')\n",
    "                   .reset_index())\n",
    "df_messages_pvt.columns = ['user_id', 'month', 'message_count']\n",
    "\n",
    "# Добавляем в большой датасет.\n",
    "\n",
    "df = df.merge(df_messages_pvt, how='outer', left_on=['user_id', 'month'], right_on=['user_id', 'month'])\n",
    "df"
   ]
  },
  {
   "cell_type": "code",
   "execution_count": 11,
   "metadata": {},
   "outputs": [
    {
     "data": {
      "text/html": [
       "<div>\n",
       "<style scoped>\n",
       "    .dataframe tbody tr th:only-of-type {\n",
       "        vertical-align: middle;\n",
       "    }\n",
       "\n",
       "    .dataframe tbody tr th {\n",
       "        vertical-align: top;\n",
       "    }\n",
       "\n",
       "    .dataframe thead th {\n",
       "        text-align: right;\n",
       "    }\n",
       "</style>\n",
       "<table border=\"1\" class=\"dataframe\">\n",
       "  <thead>\n",
       "    <tr style=\"text-align: right;\">\n",
       "      <th></th>\n",
       "      <th>user_id</th>\n",
       "      <th>month</th>\n",
       "      <th>city</th>\n",
       "      <th>tariff</th>\n",
       "      <th>duration_sum</th>\n",
       "      <th>duration_count</th>\n",
       "      <th>message_count</th>\n",
       "      <th>mb_used_sum</th>\n",
       "      <th>mb_used_count</th>\n",
       "    </tr>\n",
       "  </thead>\n",
       "  <tbody>\n",
       "    <tr>\n",
       "      <td>0</td>\n",
       "      <td>1000</td>\n",
       "      <td>5</td>\n",
       "      <td>Краснодар</td>\n",
       "      <td>ultra</td>\n",
       "      <td>149.0</td>\n",
       "      <td>16.0</td>\n",
       "      <td>22.0</td>\n",
       "      <td>2253.0</td>\n",
       "      <td>4.0</td>\n",
       "    </tr>\n",
       "    <tr>\n",
       "      <td>1</td>\n",
       "      <td>1000</td>\n",
       "      <td>6</td>\n",
       "      <td>Краснодар</td>\n",
       "      <td>ultra</td>\n",
       "      <td>159.0</td>\n",
       "      <td>27.0</td>\n",
       "      <td>60.0</td>\n",
       "      <td>23232.0</td>\n",
       "      <td>44.0</td>\n",
       "    </tr>\n",
       "    <tr>\n",
       "      <td>2</td>\n",
       "      <td>1000</td>\n",
       "      <td>7</td>\n",
       "      <td>Краснодар</td>\n",
       "      <td>ultra</td>\n",
       "      <td>319.0</td>\n",
       "      <td>39.0</td>\n",
       "      <td>75.0</td>\n",
       "      <td>14004.0</td>\n",
       "      <td>28.0</td>\n",
       "    </tr>\n",
       "    <tr>\n",
       "      <td>3</td>\n",
       "      <td>1000</td>\n",
       "      <td>8</td>\n",
       "      <td>Краснодар</td>\n",
       "      <td>ultra</td>\n",
       "      <td>391.0</td>\n",
       "      <td>42.0</td>\n",
       "      <td>81.0</td>\n",
       "      <td>14054.0</td>\n",
       "      <td>27.0</td>\n",
       "    </tr>\n",
       "    <tr>\n",
       "      <td>4</td>\n",
       "      <td>1000</td>\n",
       "      <td>9</td>\n",
       "      <td>Краснодар</td>\n",
       "      <td>ultra</td>\n",
       "      <td>439.0</td>\n",
       "      <td>45.0</td>\n",
       "      <td>57.0</td>\n",
       "      <td>14569.0</td>\n",
       "      <td>25.0</td>\n",
       "    </tr>\n",
       "    <tr>\n",
       "      <td>...</td>\n",
       "      <td>...</td>\n",
       "      <td>...</td>\n",
       "      <td>...</td>\n",
       "      <td>...</td>\n",
       "      <td>...</td>\n",
       "      <td>...</td>\n",
       "      <td>...</td>\n",
       "      <td>...</td>\n",
       "      <td>...</td>\n",
       "    </tr>\n",
       "    <tr>\n",
       "      <td>3209</td>\n",
       "      <td>1489</td>\n",
       "      <td>8</td>\n",
       "      <td>Санкт-Петербург</td>\n",
       "      <td>smart</td>\n",
       "      <td>NaN</td>\n",
       "      <td>NaN</td>\n",
       "      <td>17.0</td>\n",
       "      <td>11051.0</td>\n",
       "      <td>28.0</td>\n",
       "    </tr>\n",
       "    <tr>\n",
       "      <td>3210</td>\n",
       "      <td>1489</td>\n",
       "      <td>9</td>\n",
       "      <td>Санкт-Петербург</td>\n",
       "      <td>smart</td>\n",
       "      <td>NaN</td>\n",
       "      <td>NaN</td>\n",
       "      <td>32.0</td>\n",
       "      <td>17205.0</td>\n",
       "      <td>49.0</td>\n",
       "    </tr>\n",
       "    <tr>\n",
       "      <td>3211</td>\n",
       "      <td>1489</td>\n",
       "      <td>10</td>\n",
       "      <td>Санкт-Петербург</td>\n",
       "      <td>smart</td>\n",
       "      <td>NaN</td>\n",
       "      <td>NaN</td>\n",
       "      <td>21.0</td>\n",
       "      <td>19558.0</td>\n",
       "      <td>52.0</td>\n",
       "    </tr>\n",
       "    <tr>\n",
       "      <td>3212</td>\n",
       "      <td>1489</td>\n",
       "      <td>11</td>\n",
       "      <td>Санкт-Петербург</td>\n",
       "      <td>smart</td>\n",
       "      <td>NaN</td>\n",
       "      <td>NaN</td>\n",
       "      <td>20.0</td>\n",
       "      <td>17489.0</td>\n",
       "      <td>45.0</td>\n",
       "    </tr>\n",
       "    <tr>\n",
       "      <td>3213</td>\n",
       "      <td>1489</td>\n",
       "      <td>12</td>\n",
       "      <td>Санкт-Петербург</td>\n",
       "      <td>smart</td>\n",
       "      <td>NaN</td>\n",
       "      <td>NaN</td>\n",
       "      <td>35.0</td>\n",
       "      <td>17322.0</td>\n",
       "      <td>43.0</td>\n",
       "    </tr>\n",
       "  </tbody>\n",
       "</table>\n",
       "<p>3214 rows × 9 columns</p>\n",
       "</div>"
      ],
      "text/plain": [
       "      user_id  month             city tariff  duration_sum  duration_count  \\\n",
       "0        1000      5        Краснодар  ultra         149.0            16.0   \n",
       "1        1000      6        Краснодар  ultra         159.0            27.0   \n",
       "2        1000      7        Краснодар  ultra         319.0            39.0   \n",
       "3        1000      8        Краснодар  ultra         391.0            42.0   \n",
       "4        1000      9        Краснодар  ultra         439.0            45.0   \n",
       "...       ...    ...              ...    ...           ...             ...   \n",
       "3209     1489      8  Санкт-Петербург  smart           NaN             NaN   \n",
       "3210     1489      9  Санкт-Петербург  smart           NaN             NaN   \n",
       "3211     1489     10  Санкт-Петербург  smart           NaN             NaN   \n",
       "3212     1489     11  Санкт-Петербург  smart           NaN             NaN   \n",
       "3213     1489     12  Санкт-Петербург  smart           NaN             NaN   \n",
       "\n",
       "      message_count  mb_used_sum  mb_used_count  \n",
       "0              22.0       2253.0            4.0  \n",
       "1              60.0      23232.0           44.0  \n",
       "2              75.0      14004.0           28.0  \n",
       "3              81.0      14054.0           27.0  \n",
       "4              57.0      14569.0           25.0  \n",
       "...             ...          ...            ...  \n",
       "3209           17.0      11051.0           28.0  \n",
       "3210           32.0      17205.0           49.0  \n",
       "3211           21.0      19558.0           52.0  \n",
       "3212           20.0      17489.0           45.0  \n",
       "3213           35.0      17322.0           43.0  \n",
       "\n",
       "[3214 rows x 9 columns]"
      ]
     },
     "execution_count": 11,
     "metadata": {},
     "output_type": "execute_result"
    }
   ],
   "source": [
    "# Объем израсходованного интернет-трафика по месяцам для каждого пользователя.\n",
    "\n",
    "df_internet['session_month'] = df_internet['session_date'].dt.month\n",
    "\n",
    "df_internet_pvt = (df_internet.pivot_table(index=['user_id', 'session_month'], values='mb_used', aggfunc=['sum', 'count'])\n",
    "                   .reset_index())\n",
    "df_internet_pvt.columns = ['user_id', 'month', 'mb_used_sum', 'mb_used_count']\n",
    "\n",
    "# Добавляем в большой датасет. \n",
    "\n",
    "df = df.merge(df_internet_pvt, how='outer', left_on=['user_id', 'month'], right_on=['user_id', 'month'])\n",
    "\n",
    "# Добавляем нужное из df_users. Столбцы передвинем для удобства.\n",
    "\n",
    "df = df.merge(df_users[['user_id', 'city', 'tariff']], left_on='user_id', right_on='user_id')\n",
    "df = df[['user_id', 'month', 'city', 'tariff', 'duration_sum', 'duration_count', 'message_count', 'mb_used_sum', 'mb_used_count']]\n",
    "df"
   ]
  },
  {
   "cell_type": "code",
   "execution_count": 12,
   "metadata": {},
   "outputs": [],
   "source": [
    "# Если данные пропущены, то результативного использования не было. Можно заполнить нулями. Приведем к типу int.\n",
    "\n",
    "df.fillna(0, inplace=True)\n",
    "\n",
    "df['message_count'] = df['message_count'].astype(int)"
   ]
  },
  {
   "cell_type": "code",
   "execution_count": 13,
   "metadata": {},
   "outputs": [
    {
     "name": "stdout",
     "output_type": "stream",
     "text": [
      "<class 'pandas.core.frame.DataFrame'>\n",
      "Int64Index: 3214 entries, 0 to 3213\n",
      "Data columns (total 16 columns):\n",
      "user_id                  3214 non-null int64\n",
      "month                    3214 non-null int64\n",
      "city                     3214 non-null object\n",
      "tariff                   3214 non-null object\n",
      "duration_sum             3214 non-null float64\n",
      "duration_count           3214 non-null float64\n",
      "message_count            3214 non-null int64\n",
      "mb_used_sum              3214 non-null float64\n",
      "mb_used_count            3214 non-null float64\n",
      "messages_included        3214 non-null int64\n",
      "mb_per_month_included    3214 non-null int64\n",
      "minutes_included         3214 non-null int64\n",
      "rub_monthly_fee          3214 non-null int64\n",
      "rub_per_gb               3214 non-null int64\n",
      "rub_per_message          3214 non-null int64\n",
      "rub_per_minute           3214 non-null int64\n",
      "dtypes: float64(4), int64(10), object(2)\n",
      "memory usage: 426.9+ KB\n"
     ]
    }
   ],
   "source": [
    "# Добавим данные по тарифу и уберем дублирующиеся.\n",
    "\n",
    "df = df.merge(df_tariffs, left_on='tariff', right_on='tariff_name')\n",
    "\n",
    "df.drop(df.columns[16], axis='columns', inplace=True)\n",
    "df.info()"
   ]
  },
  {
   "cell_type": "markdown",
   "metadata": {},
   "source": [
    "##### Чтобы посчитать для каждого пользователя помесячную выручку, для удобства, разобьём большой датасет на три, по услуге. Найдём выручку по каждой услуге, а потом сложим и получим общую."
   ]
  },
  {
   "cell_type": "code",
   "execution_count": 14,
   "metadata": {
    "scrolled": true
   },
   "outputs": [
    {
     "name": "stderr",
     "output_type": "stream",
     "text": [
      "/opt/conda/lib/python3.7/site-packages/pandas/core/indexing.py:376: SettingWithCopyWarning: \n",
      "A value is trying to be set on a copy of a slice from a DataFrame.\n",
      "Try using .loc[row_indexer,col_indexer] = value instead\n",
      "\n",
      "See the caveats in the documentation: http://pandas.pydata.org/pandas-docs/stable/user_guide/indexing.html#returning-a-view-versus-a-copy\n",
      "  self.obj[key] = _infer_fill_value(value)\n",
      "/opt/conda/lib/python3.7/site-packages/pandas/core/indexing.py:494: SettingWithCopyWarning: \n",
      "A value is trying to be set on a copy of a slice from a DataFrame.\n",
      "Try using .loc[row_indexer,col_indexer] = value instead\n",
      "\n",
      "See the caveats in the documentation: http://pandas.pydata.org/pandas-docs/stable/user_guide/indexing.html#returning-a-view-versus-a-copy\n",
      "  self.obj[item] = s\n",
      "/opt/conda/lib/python3.7/site-packages/ipykernel_launcher.py:15: SettingWithCopyWarning: \n",
      "A value is trying to be set on a copy of a slice from a DataFrame.\n",
      "Try using .loc[row_indexer,col_indexer] = value instead\n",
      "\n",
      "See the caveats in the documentation: http://pandas.pydata.org/pandas-docs/stable/user_guide/indexing.html#returning-a-view-versus-a-copy\n",
      "  from ipykernel import kernelapp as app\n"
     ]
    }
   ],
   "source": [
    "# Звонки\n",
    "\n",
    "df_duration = df[['user_id', 'month', 'duration_sum', 'minutes_included', 'rub_per_minute']]\n",
    "\n",
    "# Считаем превышение\n",
    "\n",
    "df_duration.loc[df_duration['duration_sum'] > df_duration['minutes_included'], 'duration_excees'] = \\\n",
    "df_duration.loc[df_duration['duration_sum'] > df_duration['minutes_included'], 'duration_sum'] - \\\n",
    "df_duration.loc[df_duration['duration_sum'] > df_duration['minutes_included'], 'minutes_included']\n",
    "\n",
    "df_duration.loc[df_duration['duration_sum'] <= df_duration['minutes_included'], 'duration_excees'] = 0\n",
    "\n",
    "# Вычисляем выручку с звонков, которые превысили тариф\n",
    "\n",
    "df_duration['call_earnings'] = df_duration['rub_per_minute'] * df_duration['duration_excees']"
   ]
  },
  {
   "cell_type": "code",
   "execution_count": 15,
   "metadata": {},
   "outputs": [
    {
     "name": "stderr",
     "output_type": "stream",
     "text": [
      "/opt/conda/lib/python3.7/site-packages/ipykernel_launcher.py:15: SettingWithCopyWarning: \n",
      "A value is trying to be set on a copy of a slice from a DataFrame.\n",
      "Try using .loc[row_indexer,col_indexer] = value instead\n",
      "\n",
      "See the caveats in the documentation: http://pandas.pydata.org/pandas-docs/stable/user_guide/indexing.html#returning-a-view-versus-a-copy\n",
      "  from ipykernel import kernelapp as app\n"
     ]
    }
   ],
   "source": [
    "# Сообщения\n",
    "\n",
    "df_msg = df[['user_id', 'month', 'message_count', 'messages_included', 'rub_per_message']]\n",
    "\n",
    "# Считаем превышение\n",
    "\n",
    "df_msg.loc[df_msg['message_count'] > df_msg['messages_included'], 'msg_excees'] = \\\n",
    "df_msg.loc[df_msg['message_count'] > df_msg['messages_included'], 'message_count'] - \\\n",
    "df_msg.loc[df_msg['message_count'] > df_msg['messages_included'], 'messages_included']\n",
    "\n",
    "df_msg.loc[df_msg['message_count'] <= df_msg['messages_included'], 'msg_excees'] = 0\n",
    "\n",
    "# Вычисляем выручку с сообщений, которые превысили тариф\n",
    "\n",
    "df_msg['msg_earnings'] = df_msg['rub_per_message'] * df_msg['msg_excees']"
   ]
  },
  {
   "cell_type": "code",
   "execution_count": 16,
   "metadata": {},
   "outputs": [
    {
     "name": "stderr",
     "output_type": "stream",
     "text": [
      "/opt/conda/lib/python3.7/site-packages/ipykernel_launcher.py:7: SettingWithCopyWarning: \n",
      "A value is trying to be set on a copy of a slice from a DataFrame.\n",
      "Try using .loc[row_indexer,col_indexer] = value instead\n",
      "\n",
      "See the caveats in the documentation: http://pandas.pydata.org/pandas-docs/stable/user_guide/indexing.html#returning-a-view-versus-a-copy\n",
      "  import sys\n",
      "/opt/conda/lib/python3.7/site-packages/ipykernel_launcher.py:8: SettingWithCopyWarning: \n",
      "A value is trying to be set on a copy of a slice from a DataFrame.\n",
      "Try using .loc[row_indexer,col_indexer] = value instead\n",
      "\n",
      "See the caveats in the documentation: http://pandas.pydata.org/pandas-docs/stable/user_guide/indexing.html#returning-a-view-versus-a-copy\n",
      "  \n",
      "/opt/conda/lib/python3.7/site-packages/ipykernel_launcher.py:20: SettingWithCopyWarning: \n",
      "A value is trying to be set on a copy of a slice from a DataFrame.\n",
      "Try using .loc[row_indexer,col_indexer] = value instead\n",
      "\n",
      "See the caveats in the documentation: http://pandas.pydata.org/pandas-docs/stable/user_guide/indexing.html#returning-a-view-versus-a-copy\n"
     ]
    }
   ],
   "source": [
    "# Интернет\n",
    "\n",
    "df_int = df[['user_id', 'month', 'mb_used_sum', 'mb_per_month_included', 'rub_per_gb']]\n",
    "\n",
    "# Высчитаем превышение в гигабайтах\n",
    "\n",
    "df_int['gb_used_sum'] = np.around(df_int['mb_used_sum'] / 1024).astype(int)\n",
    "df_int['gb_per_month_included'] = df_int['mb_per_month_included'] / 1024\n",
    "\n",
    "# Считаем превышение\n",
    "\n",
    "df_int.loc[df_int['gb_used_sum'] > df_int['gb_per_month_included'], 'gb_excees'] = \\\n",
    "df_int.loc[df_int['gb_used_sum'] > df_int['gb_per_month_included'], 'gb_used_sum'] - \\\n",
    "df_int.loc[df_int['gb_used_sum'] > df_int['gb_per_month_included'], 'gb_per_month_included']\n",
    "\n",
    "df_int.loc[df_int['gb_used_sum'] <= df_int['gb_per_month_included'], 'gb_excees'] = 0\n",
    "\n",
    "# Вычисляем выручку с гигабайт, которые превысили тариф\n",
    "\n",
    "df_int['int_earnings'] = df_int['rub_per_gb'] * df_int['gb_excees']"
   ]
  },
  {
   "cell_type": "code",
   "execution_count": 17,
   "metadata": {},
   "outputs": [],
   "source": [
    "# Собираем датасет с выручкой.\n",
    "\n",
    "df_earnings = df[['user_id', 'month', 'city', 'tariff', 'rub_monthly_fee']]\n",
    "\n",
    "df_earnings = (df_earnings\n",
    "               .merge(df_duration[['user_id', 'month', 'call_earnings']], \n",
    "                      left_on=['user_id', 'month'], \n",
    "                      right_on=['user_id', 'month']))\n",
    "\n",
    "df_earnings = (df_earnings\n",
    "               .merge(df_msg[['user_id', 'month', 'msg_earnings']], \n",
    "                      left_on=['user_id', 'month'], \n",
    "                      right_on=['user_id', 'month']))\n",
    "               \n",
    "df_earnings = (df_earnings\n",
    "               .merge(df_int[['user_id', 'month', 'int_earnings']], \n",
    "                      left_on=['user_id', 'month'], \n",
    "                      right_on=['user_id', 'month']))"
   ]
  },
  {
   "cell_type": "code",
   "execution_count": 18,
   "metadata": {},
   "outputs": [
    {
     "data": {
      "text/html": [
       "<div>\n",
       "<style scoped>\n",
       "    .dataframe tbody tr th:only-of-type {\n",
       "        vertical-align: middle;\n",
       "    }\n",
       "\n",
       "    .dataframe tbody tr th {\n",
       "        vertical-align: top;\n",
       "    }\n",
       "\n",
       "    .dataframe thead th {\n",
       "        text-align: right;\n",
       "    }\n",
       "</style>\n",
       "<table border=\"1\" class=\"dataframe\">\n",
       "  <thead>\n",
       "    <tr style=\"text-align: right;\">\n",
       "      <th></th>\n",
       "      <th>user_id</th>\n",
       "      <th>month</th>\n",
       "      <th>city</th>\n",
       "      <th>tariff</th>\n",
       "      <th>rub_monthly_fee</th>\n",
       "      <th>call_earnings</th>\n",
       "      <th>msg_earnings</th>\n",
       "      <th>int_earnings</th>\n",
       "      <th>earnings</th>\n",
       "    </tr>\n",
       "  </thead>\n",
       "  <tbody>\n",
       "    <tr>\n",
       "      <td>3157</td>\n",
       "      <td>1486</td>\n",
       "      <td>12</td>\n",
       "      <td>Нижний Новгород</td>\n",
       "      <td>smart</td>\n",
       "      <td>550</td>\n",
       "      <td>1368.0</td>\n",
       "      <td>99.0</td>\n",
       "      <td>4600.0</td>\n",
       "      <td>6617.0</td>\n",
       "    </tr>\n",
       "    <tr>\n",
       "      <td>2177</td>\n",
       "      <td>1261</td>\n",
       "      <td>12</td>\n",
       "      <td>Казань</td>\n",
       "      <td>smart</td>\n",
       "      <td>550</td>\n",
       "      <td>1557.0</td>\n",
       "      <td>0.0</td>\n",
       "      <td>3400.0</td>\n",
       "      <td>5507.0</td>\n",
       "    </tr>\n",
       "    <tr>\n",
       "      <td>1183</td>\n",
       "      <td>1042</td>\n",
       "      <td>12</td>\n",
       "      <td>Хабаровск</td>\n",
       "      <td>smart</td>\n",
       "      <td>550</td>\n",
       "      <td>546.0</td>\n",
       "      <td>75.0</td>\n",
       "      <td>4200.0</td>\n",
       "      <td>5371.0</td>\n",
       "    </tr>\n",
       "    <tr>\n",
       "      <td>3156</td>\n",
       "      <td>1486</td>\n",
       "      <td>11</td>\n",
       "      <td>Нижний Новгород</td>\n",
       "      <td>smart</td>\n",
       "      <td>550</td>\n",
       "      <td>669.0</td>\n",
       "      <td>138.0</td>\n",
       "      <td>4000.0</td>\n",
       "      <td>5357.0</td>\n",
       "    </tr>\n",
       "    <tr>\n",
       "      <td>2298</td>\n",
       "      <td>1286</td>\n",
       "      <td>12</td>\n",
       "      <td>Москва</td>\n",
       "      <td>smart</td>\n",
       "      <td>550</td>\n",
       "      <td>576.0</td>\n",
       "      <td>54.0</td>\n",
       "      <td>3800.0</td>\n",
       "      <td>4980.0</td>\n",
       "    </tr>\n",
       "    <tr>\n",
       "      <td>...</td>\n",
       "      <td>...</td>\n",
       "      <td>...</td>\n",
       "      <td>...</td>\n",
       "      <td>...</td>\n",
       "      <td>...</td>\n",
       "      <td>...</td>\n",
       "      <td>...</td>\n",
       "      <td>...</td>\n",
       "      <td>...</td>\n",
       "    </tr>\n",
       "    <tr>\n",
       "      <td>2058</td>\n",
       "      <td>1229</td>\n",
       "      <td>10</td>\n",
       "      <td>Москва</td>\n",
       "      <td>smart</td>\n",
       "      <td>550</td>\n",
       "      <td>0.0</td>\n",
       "      <td>0.0</td>\n",
       "      <td>0.0</td>\n",
       "      <td>550.0</td>\n",
       "    </tr>\n",
       "    <tr>\n",
       "      <td>2659</td>\n",
       "      <td>1378</td>\n",
       "      <td>1</td>\n",
       "      <td>Иркутск</td>\n",
       "      <td>smart</td>\n",
       "      <td>550</td>\n",
       "      <td>0.0</td>\n",
       "      <td>0.0</td>\n",
       "      <td>0.0</td>\n",
       "      <td>550.0</td>\n",
       "    </tr>\n",
       "    <tr>\n",
       "      <td>2661</td>\n",
       "      <td>1378</td>\n",
       "      <td>3</td>\n",
       "      <td>Иркутск</td>\n",
       "      <td>smart</td>\n",
       "      <td>550</td>\n",
       "      <td>0.0</td>\n",
       "      <td>0.0</td>\n",
       "      <td>0.0</td>\n",
       "      <td>550.0</td>\n",
       "    </tr>\n",
       "    <tr>\n",
       "      <td>2663</td>\n",
       "      <td>1378</td>\n",
       "      <td>5</td>\n",
       "      <td>Иркутск</td>\n",
       "      <td>smart</td>\n",
       "      <td>550</td>\n",
       "      <td>0.0</td>\n",
       "      <td>0.0</td>\n",
       "      <td>0.0</td>\n",
       "      <td>550.0</td>\n",
       "    </tr>\n",
       "    <tr>\n",
       "      <td>2451</td>\n",
       "      <td>1321</td>\n",
       "      <td>6</td>\n",
       "      <td>Москва</td>\n",
       "      <td>smart</td>\n",
       "      <td>550</td>\n",
       "      <td>0.0</td>\n",
       "      <td>0.0</td>\n",
       "      <td>0.0</td>\n",
       "      <td>550.0</td>\n",
       "    </tr>\n",
       "  </tbody>\n",
       "</table>\n",
       "<p>3214 rows × 9 columns</p>\n",
       "</div>"
      ],
      "text/plain": [
       "      user_id  month             city tariff  rub_monthly_fee  call_earnings  \\\n",
       "3157     1486     12  Нижний Новгород  smart              550         1368.0   \n",
       "2177     1261     12           Казань  smart              550         1557.0   \n",
       "1183     1042     12        Хабаровск  smart              550          546.0   \n",
       "3156     1486     11  Нижний Новгород  smart              550          669.0   \n",
       "2298     1286     12           Москва  smart              550          576.0   \n",
       "...       ...    ...              ...    ...              ...            ...   \n",
       "2058     1229     10           Москва  smart              550            0.0   \n",
       "2659     1378      1          Иркутск  smart              550            0.0   \n",
       "2661     1378      3          Иркутск  smart              550            0.0   \n",
       "2663     1378      5          Иркутск  smart              550            0.0   \n",
       "2451     1321      6           Москва  smart              550            0.0   \n",
       "\n",
       "      msg_earnings  int_earnings  earnings  \n",
       "3157          99.0        4600.0    6617.0  \n",
       "2177           0.0        3400.0    5507.0  \n",
       "1183          75.0        4200.0    5371.0  \n",
       "3156         138.0        4000.0    5357.0  \n",
       "2298          54.0        3800.0    4980.0  \n",
       "...            ...           ...       ...  \n",
       "2058           0.0           0.0     550.0  \n",
       "2659           0.0           0.0     550.0  \n",
       "2661           0.0           0.0     550.0  \n",
       "2663           0.0           0.0     550.0  \n",
       "2451           0.0           0.0     550.0  \n",
       "\n",
       "[3214 rows x 9 columns]"
      ]
     },
     "execution_count": 18,
     "metadata": {},
     "output_type": "execute_result"
    }
   ],
   "source": [
    "# Добавляем итоговую выручку по каждому клиенту в месяц с абонентской платой.\n",
    "\n",
    "df_earnings.loc[:, 'earnings'] = df_earnings['rub_monthly_fee'] + df_earnings['call_earnings'] + \\\n",
    "df_earnings['msg_earnings'] + df_earnings['int_earnings']\n",
    "\n",
    "df_earnings.sort_values('earnings', ascending=False)"
   ]
  },
  {
   "cell_type": "code",
   "execution_count": 19,
   "metadata": {},
   "outputs": [
    {
     "name": "stdout",
     "output_type": "stream",
     "text": [
      "<class 'pandas.core.frame.DataFrame'>\n",
      "Int64Index: 3214 entries, 0 to 3213\n",
      "Data columns (total 9 columns):\n",
      "user_id            3214 non-null int64\n",
      "month              3214 non-null int64\n",
      "city               3214 non-null object\n",
      "tariff             3214 non-null object\n",
      "rub_monthly_fee    3214 non-null int64\n",
      "call_earnings      3214 non-null float64\n",
      "msg_earnings       3214 non-null float64\n",
      "int_earnings       3214 non-null float64\n",
      "earnings           3214 non-null float64\n",
      "dtypes: float64(4), int64(3), object(2)\n",
      "memory usage: 251.1+ KB\n"
     ]
    }
   ],
   "source": [
    "# Проверяем датасет.\n",
    "\n",
    "df_earnings.info()"
   ]
  },
  {
   "cell_type": "code",
   "execution_count": 20,
   "metadata": {},
   "outputs": [
    {
     "data": {
      "text/html": [
       "<div>\n",
       "<style scoped>\n",
       "    .dataframe tbody tr th:only-of-type {\n",
       "        vertical-align: middle;\n",
       "    }\n",
       "\n",
       "    .dataframe tbody tr th {\n",
       "        vertical-align: top;\n",
       "    }\n",
       "\n",
       "    .dataframe thead th {\n",
       "        text-align: right;\n",
       "    }\n",
       "</style>\n",
       "<table border=\"1\" class=\"dataframe\">\n",
       "  <thead>\n",
       "    <tr style=\"text-align: right;\">\n",
       "      <th></th>\n",
       "      <th>user_id</th>\n",
       "      <th>month</th>\n",
       "      <th>city</th>\n",
       "      <th>tariff</th>\n",
       "      <th>rub_monthly_fee</th>\n",
       "      <th>call_earnings</th>\n",
       "      <th>msg_earnings</th>\n",
       "      <th>int_earnings</th>\n",
       "      <th>earnings</th>\n",
       "    </tr>\n",
       "  </thead>\n",
       "  <tbody>\n",
       "    <tr>\n",
       "      <td>3157</td>\n",
       "      <td>1486</td>\n",
       "      <td>12</td>\n",
       "      <td>Нижний Новгород</td>\n",
       "      <td>smart</td>\n",
       "      <td>550</td>\n",
       "      <td>1368.0</td>\n",
       "      <td>99.0</td>\n",
       "      <td>4600.0</td>\n",
       "      <td>6617.0</td>\n",
       "    </tr>\n",
       "    <tr>\n",
       "      <td>2177</td>\n",
       "      <td>1261</td>\n",
       "      <td>12</td>\n",
       "      <td>Казань</td>\n",
       "      <td>smart</td>\n",
       "      <td>550</td>\n",
       "      <td>1557.0</td>\n",
       "      <td>0.0</td>\n",
       "      <td>3400.0</td>\n",
       "      <td>5507.0</td>\n",
       "    </tr>\n",
       "    <tr>\n",
       "      <td>1183</td>\n",
       "      <td>1042</td>\n",
       "      <td>12</td>\n",
       "      <td>Хабаровск</td>\n",
       "      <td>smart</td>\n",
       "      <td>550</td>\n",
       "      <td>546.0</td>\n",
       "      <td>75.0</td>\n",
       "      <td>4200.0</td>\n",
       "      <td>5371.0</td>\n",
       "    </tr>\n",
       "    <tr>\n",
       "      <td>3156</td>\n",
       "      <td>1486</td>\n",
       "      <td>11</td>\n",
       "      <td>Нижний Новгород</td>\n",
       "      <td>smart</td>\n",
       "      <td>550</td>\n",
       "      <td>669.0</td>\n",
       "      <td>138.0</td>\n",
       "      <td>4000.0</td>\n",
       "      <td>5357.0</td>\n",
       "    </tr>\n",
       "    <tr>\n",
       "      <td>2298</td>\n",
       "      <td>1286</td>\n",
       "      <td>12</td>\n",
       "      <td>Москва</td>\n",
       "      <td>smart</td>\n",
       "      <td>550</td>\n",
       "      <td>576.0</td>\n",
       "      <td>54.0</td>\n",
       "      <td>3800.0</td>\n",
       "      <td>4980.0</td>\n",
       "    </tr>\n",
       "    <tr>\n",
       "      <td>...</td>\n",
       "      <td>...</td>\n",
       "      <td>...</td>\n",
       "      <td>...</td>\n",
       "      <td>...</td>\n",
       "      <td>...</td>\n",
       "      <td>...</td>\n",
       "      <td>...</td>\n",
       "      <td>...</td>\n",
       "      <td>...</td>\n",
       "    </tr>\n",
       "    <tr>\n",
       "      <td>1976</td>\n",
       "      <td>1214</td>\n",
       "      <td>7</td>\n",
       "      <td>Калининград</td>\n",
       "      <td>smart</td>\n",
       "      <td>550</td>\n",
       "      <td>0.0</td>\n",
       "      <td>3.0</td>\n",
       "      <td>0.0</td>\n",
       "      <td>553.0</td>\n",
       "    </tr>\n",
       "    <tr>\n",
       "      <td>1164</td>\n",
       "      <td>1036</td>\n",
       "      <td>10</td>\n",
       "      <td>Санкт-Петербург</td>\n",
       "      <td>smart</td>\n",
       "      <td>550</td>\n",
       "      <td>3.0</td>\n",
       "      <td>0.0</td>\n",
       "      <td>0.0</td>\n",
       "      <td>553.0</td>\n",
       "    </tr>\n",
       "    <tr>\n",
       "      <td>1159</td>\n",
       "      <td>1035</td>\n",
       "      <td>11</td>\n",
       "      <td>Тюмень</td>\n",
       "      <td>smart</td>\n",
       "      <td>550</td>\n",
       "      <td>0.0</td>\n",
       "      <td>3.0</td>\n",
       "      <td>0.0</td>\n",
       "      <td>553.0</td>\n",
       "    </tr>\n",
       "    <tr>\n",
       "      <td>1160</td>\n",
       "      <td>1035</td>\n",
       "      <td>12</td>\n",
       "      <td>Тюмень</td>\n",
       "      <td>smart</td>\n",
       "      <td>550</td>\n",
       "      <td>0.0</td>\n",
       "      <td>3.0</td>\n",
       "      <td>0.0</td>\n",
       "      <td>553.0</td>\n",
       "    </tr>\n",
       "    <tr>\n",
       "      <td>2710</td>\n",
       "      <td>1393</td>\n",
       "      <td>6</td>\n",
       "      <td>Краснодар</td>\n",
       "      <td>smart</td>\n",
       "      <td>550</td>\n",
       "      <td>0.0</td>\n",
       "      <td>3.0</td>\n",
       "      <td>0.0</td>\n",
       "      <td>553.0</td>\n",
       "    </tr>\n",
       "  </tbody>\n",
       "</table>\n",
       "<p>1719 rows × 9 columns</p>\n",
       "</div>"
      ],
      "text/plain": [
       "      user_id  month             city tariff  rub_monthly_fee  call_earnings  \\\n",
       "3157     1486     12  Нижний Новгород  smart              550         1368.0   \n",
       "2177     1261     12           Казань  smart              550         1557.0   \n",
       "1183     1042     12        Хабаровск  smart              550          546.0   \n",
       "3156     1486     11  Нижний Новгород  smart              550          669.0   \n",
       "2298     1286     12           Москва  smart              550          576.0   \n",
       "...       ...    ...              ...    ...              ...            ...   \n",
       "1976     1214      7      Калининград  smart              550            0.0   \n",
       "1164     1036     10  Санкт-Петербург  smart              550            3.0   \n",
       "1159     1035     11           Тюмень  smart              550            0.0   \n",
       "1160     1035     12           Тюмень  smart              550            0.0   \n",
       "2710     1393      6        Краснодар  smart              550            0.0   \n",
       "\n",
       "      msg_earnings  int_earnings  earnings  \n",
       "3157          99.0        4600.0    6617.0  \n",
       "2177           0.0        3400.0    5507.0  \n",
       "1183          75.0        4200.0    5371.0  \n",
       "3156         138.0        4000.0    5357.0  \n",
       "2298          54.0        3800.0    4980.0  \n",
       "...            ...           ...       ...  \n",
       "1976           3.0           0.0     553.0  \n",
       "1164           0.0           0.0     553.0  \n",
       "1159           3.0           0.0     553.0  \n",
       "1160           3.0           0.0     553.0  \n",
       "2710           3.0           0.0     553.0  \n",
       "\n",
       "[1719 rows x 9 columns]"
      ]
     },
     "execution_count": 20,
     "metadata": {},
     "output_type": "execute_result"
    }
   ],
   "source": [
    "# Посмотрим сколько было оплат сверх абонентской платы.\n",
    "\n",
    "df_overpay = (df_earnings[df_earnings['rub_monthly_fee'] < df_earnings['earnings']]\n",
    "              .sort_values('earnings', ascending=False))\n",
    "df_overpay"
   ]
  },
  {
   "cell_type": "markdown",
   "metadata": {},
   "source": [
    "### Вывод\n",
    "\n",
    "Как мы видим по сортированной таблице, кое-кому явно не хватает имеющегося тарифа, 54% пользователей платят сверх абонентской платы."
   ]
  },
  {
   "cell_type": "markdown",
   "metadata": {},
   "source": [
    "## Шаг 3. Проанализируйте данные\n",
    "Опишем поведение клиентов, исходя из выборки. Узнаем сколько минут разговора, сколько сообщений и какой объём интернет-трафика требуется пользователям каждого тарифа в месяц. Посчитаем среднее количество, дисперсию и стандартное отклонение. Построим гистограммы. Опишем распределения."
   ]
  },
  {
   "cell_type": "code",
   "execution_count": 21,
   "metadata": {},
   "outputs": [
    {
     "data": {
      "text/html": [
       "<div>\n",
       "<style scoped>\n",
       "    .dataframe tbody tr th:only-of-type {\n",
       "        vertical-align: middle;\n",
       "    }\n",
       "\n",
       "    .dataframe tbody tr th {\n",
       "        vertical-align: top;\n",
       "    }\n",
       "\n",
       "    .dataframe thead th {\n",
       "        text-align: right;\n",
       "    }\n",
       "</style>\n",
       "<table border=\"1\" class=\"dataframe\">\n",
       "  <thead>\n",
       "    <tr style=\"text-align: right;\">\n",
       "      <th></th>\n",
       "      <th>month</th>\n",
       "      <th>tariff</th>\n",
       "      <th>duration_mean</th>\n",
       "      <th>mb_used_mean</th>\n",
       "      <th>message_mean</th>\n",
       "    </tr>\n",
       "  </thead>\n",
       "  <tbody>\n",
       "    <tr>\n",
       "      <td>0</td>\n",
       "      <td>1</td>\n",
       "      <td>smart</td>\n",
       "      <td>193.088235</td>\n",
       "      <td>8513.794118</td>\n",
       "      <td>18.235294</td>\n",
       "    </tr>\n",
       "    <tr>\n",
       "      <td>1</td>\n",
       "      <td>1</td>\n",
       "      <td>ultra</td>\n",
       "      <td>404.777778</td>\n",
       "      <td>13140.777778</td>\n",
       "      <td>33.777778</td>\n",
       "    </tr>\n",
       "    <tr>\n",
       "      <td>2</td>\n",
       "      <td>2</td>\n",
       "      <td>smart</td>\n",
       "      <td>283.396552</td>\n",
       "      <td>11597.465517</td>\n",
       "      <td>24.086207</td>\n",
       "    </tr>\n",
       "    <tr>\n",
       "      <td>3</td>\n",
       "      <td>2</td>\n",
       "      <td>ultra</td>\n",
       "      <td>280.208333</td>\n",
       "      <td>11776.000000</td>\n",
       "      <td>21.958333</td>\n",
       "    </tr>\n",
       "    <tr>\n",
       "      <td>4</td>\n",
       "      <td>3</td>\n",
       "      <td>smart</td>\n",
       "      <td>367.428571</td>\n",
       "      <td>15104.025974</td>\n",
       "      <td>31.857143</td>\n",
       "    </tr>\n",
       "    <tr>\n",
       "      <td>5</td>\n",
       "      <td>3</td>\n",
       "      <td>ultra</td>\n",
       "      <td>461.594595</td>\n",
       "      <td>17535.432432</td>\n",
       "      <td>32.297297</td>\n",
       "    </tr>\n",
       "    <tr>\n",
       "      <td>6</td>\n",
       "      <td>4</td>\n",
       "      <td>smart</td>\n",
       "      <td>346.116071</td>\n",
       "      <td>13462.366071</td>\n",
       "      <td>30.741071</td>\n",
       "    </tr>\n",
       "    <tr>\n",
       "      <td>7</td>\n",
       "      <td>4</td>\n",
       "      <td>ultra</td>\n",
       "      <td>431.672727</td>\n",
       "      <td>16828.090909</td>\n",
       "      <td>31.563636</td>\n",
       "    </tr>\n",
       "    <tr>\n",
       "      <td>8</td>\n",
       "      <td>5</td>\n",
       "      <td>smart</td>\n",
       "      <td>365.482270</td>\n",
       "      <td>15805.269504</td>\n",
       "      <td>33.773050</td>\n",
       "    </tr>\n",
       "    <tr>\n",
       "      <td>9</td>\n",
       "      <td>5</td>\n",
       "      <td>ultra</td>\n",
       "      <td>481.686567</td>\n",
       "      <td>19363.268657</td>\n",
       "      <td>37.850746</td>\n",
       "    </tr>\n",
       "    <tr>\n",
       "      <td>10</td>\n",
       "      <td>6</td>\n",
       "      <td>smart</td>\n",
       "      <td>372.707317</td>\n",
       "      <td>15794.725610</td>\n",
       "      <td>33.402439</td>\n",
       "    </tr>\n",
       "    <tr>\n",
       "      <td>11</td>\n",
       "      <td>6</td>\n",
       "      <td>ultra</td>\n",
       "      <td>453.035714</td>\n",
       "      <td>18925.119048</td>\n",
       "      <td>41.726190</td>\n",
       "    </tr>\n",
       "    <tr>\n",
       "      <td>12</td>\n",
       "      <td>7</td>\n",
       "      <td>smart</td>\n",
       "      <td>385.353234</td>\n",
       "      <td>15743.308458</td>\n",
       "      <td>33.751244</td>\n",
       "    </tr>\n",
       "    <tr>\n",
       "      <td>13</td>\n",
       "      <td>7</td>\n",
       "      <td>ultra</td>\n",
       "      <td>515.131868</td>\n",
       "      <td>20495.703297</td>\n",
       "      <td>49.846154</td>\n",
       "    </tr>\n",
       "    <tr>\n",
       "      <td>14</td>\n",
       "      <td>8</td>\n",
       "      <td>smart</td>\n",
       "      <td>397.655319</td>\n",
       "      <td>16610.714894</td>\n",
       "      <td>33.638298</td>\n",
       "    </tr>\n",
       "    <tr>\n",
       "      <td>15</td>\n",
       "      <td>8</td>\n",
       "      <td>ultra</td>\n",
       "      <td>481.514019</td>\n",
       "      <td>19576.074766</td>\n",
       "      <td>48.439252</td>\n",
       "    </tr>\n",
       "    <tr>\n",
       "      <td>16</td>\n",
       "      <td>9</td>\n",
       "      <td>smart</td>\n",
       "      <td>404.434615</td>\n",
       "      <td>16303.576923</td>\n",
       "      <td>33.638462</td>\n",
       "    </tr>\n",
       "    <tr>\n",
       "      <td>17</td>\n",
       "      <td>9</td>\n",
       "      <td>ultra</td>\n",
       "      <td>509.026087</td>\n",
       "      <td>19204.347826</td>\n",
       "      <td>52.286957</td>\n",
       "    </tr>\n",
       "    <tr>\n",
       "      <td>18</td>\n",
       "      <td>10</td>\n",
       "      <td>smart</td>\n",
       "      <td>402.149660</td>\n",
       "      <td>16757.088435</td>\n",
       "      <td>33.765306</td>\n",
       "    </tr>\n",
       "    <tr>\n",
       "      <td>19</td>\n",
       "      <td>10</td>\n",
       "      <td>ultra</td>\n",
       "      <td>526.569106</td>\n",
       "      <td>20045.455285</td>\n",
       "      <td>58.430894</td>\n",
       "    </tr>\n",
       "    <tr>\n",
       "      <td>20</td>\n",
       "      <td>11</td>\n",
       "      <td>smart</td>\n",
       "      <td>410.272152</td>\n",
       "      <td>16895.743671</td>\n",
       "      <td>34.075949</td>\n",
       "    </tr>\n",
       "    <tr>\n",
       "      <td>21</td>\n",
       "      <td>11</td>\n",
       "      <td>ultra</td>\n",
       "      <td>510.589552</td>\n",
       "      <td>19786.641791</td>\n",
       "      <td>55.791045</td>\n",
       "    </tr>\n",
       "    <tr>\n",
       "      <td>22</td>\n",
       "      <td>12</td>\n",
       "      <td>smart</td>\n",
       "      <td>451.551929</td>\n",
       "      <td>18113.629080</td>\n",
       "      <td>35.994065</td>\n",
       "    </tr>\n",
       "    <tr>\n",
       "      <td>23</td>\n",
       "      <td>12</td>\n",
       "      <td>ultra</td>\n",
       "      <td>559.676259</td>\n",
       "      <td>21793.136691</td>\n",
       "      <td>60.611511</td>\n",
       "    </tr>\n",
       "  </tbody>\n",
       "</table>\n",
       "</div>"
      ],
      "text/plain": [
       "    month tariff  duration_mean  mb_used_mean  message_mean\n",
       "0       1  smart     193.088235   8513.794118     18.235294\n",
       "1       1  ultra     404.777778  13140.777778     33.777778\n",
       "2       2  smart     283.396552  11597.465517     24.086207\n",
       "3       2  ultra     280.208333  11776.000000     21.958333\n",
       "4       3  smart     367.428571  15104.025974     31.857143\n",
       "5       3  ultra     461.594595  17535.432432     32.297297\n",
       "6       4  smart     346.116071  13462.366071     30.741071\n",
       "7       4  ultra     431.672727  16828.090909     31.563636\n",
       "8       5  smart     365.482270  15805.269504     33.773050\n",
       "9       5  ultra     481.686567  19363.268657     37.850746\n",
       "10      6  smart     372.707317  15794.725610     33.402439\n",
       "11      6  ultra     453.035714  18925.119048     41.726190\n",
       "12      7  smart     385.353234  15743.308458     33.751244\n",
       "13      7  ultra     515.131868  20495.703297     49.846154\n",
       "14      8  smart     397.655319  16610.714894     33.638298\n",
       "15      8  ultra     481.514019  19576.074766     48.439252\n",
       "16      9  smart     404.434615  16303.576923     33.638462\n",
       "17      9  ultra     509.026087  19204.347826     52.286957\n",
       "18     10  smart     402.149660  16757.088435     33.765306\n",
       "19     10  ultra     526.569106  20045.455285     58.430894\n",
       "20     11  smart     410.272152  16895.743671     34.075949\n",
       "21     11  ultra     510.589552  19786.641791     55.791045\n",
       "22     12  smart     451.551929  18113.629080     35.994065\n",
       "23     12  ultra     559.676259  21793.136691     60.611511"
      ]
     },
     "execution_count": 21,
     "metadata": {},
     "output_type": "execute_result"
    }
   ],
   "source": [
    "# Найдём среднее количество по тарифу и месяцу.\n",
    "\n",
    "df_analyst = df[['month', 'tariff', 'duration_sum', 'message_count', 'mb_used_sum']]\n",
    "\n",
    "df_analyst_pvt = (df_analyst\n",
    " .pivot_table(index=['month', 'tariff'], values=['duration_sum', 'message_count', 'mb_used_sum'], aggfunc = ['mean'])\n",
    " .reset_index())\n",
    "df_analyst_pvt.columns = ['month', 'tariff', 'duration_mean', 'mb_used_mean', 'message_mean']\n",
    "df_analyst_pvt"
   ]
  },
  {
   "cell_type": "code",
   "execution_count": 22,
   "metadata": {},
   "outputs": [],
   "source": [
    "# Универсальный построитель гистограмм.\n",
    "\n",
    "def standart_hist(ycol, title, xlab, ylab):\n",
    "\n",
    "    fig, ax = plt.subplots(figsize=(10,6), dpi= 80)\n",
    "\n",
    "    ax.vlines(x=df_analyst_pvt.month, ymin=0, ymax=ycol, color='tab:red', alpha=0.5, linewidth=15)\n",
    "    ax.set_title(title, fontdict={'size':16})\n",
    "    ax.set(xlabel=xlab, ylabel=ylab)\n",
    "    plt.xticks(df_analyst_pvt.month, df_analyst_pvt.month, rotation=0, horizontalalignment='right', fontsize=12)\n",
    "    plt.legend(df_analyst_pvt.tariff)\n",
    "    plt.show()"
   ]
  },
  {
   "cell_type": "code",
   "execution_count": 23,
   "metadata": {},
   "outputs": [
    {
     "data": {
      "image/png": "[encoded data removed]",
      "text/plain": [
       "<Figure size 800x480 with 1 Axes>"
      ]
     },
     "metadata": {
      "needs_background": "light"
     },
     "output_type": "display_data"
    }
   ],
   "source": [
    "standart_hist(df_analyst_pvt.duration_mean, \n",
    "              'Среднее по звонкам', 'Месяц', 'Средняя длительность')"
   ]
  },
  {
   "cell_type": "code",
   "execution_count": 24,
   "metadata": {},
   "outputs": [
    {
     "data": {
      "image/png": "[encoded data removed]",
      "text/plain": [
       "<Figure size 800x480 with 1 Axes>"
      ]
     },
     "metadata": {
      "needs_background": "light"
     },
     "output_type": "display_data"
    }
   ],
   "source": [
    "standart_hist(df_analyst_pvt.mb_used_mean,\n",
    "              'Среднее по интернету', 'Месяц', 'Среднее количество')"
   ]
  },
  {
   "cell_type": "code",
   "execution_count": 25,
   "metadata": {},
   "outputs": [
    {
     "data": {
      "image/png": "[encoded data removed]",
      "text/plain": [
       "<Figure size 800x480 with 1 Axes>"
      ]
     },
     "metadata": {
      "needs_background": "light"
     },
     "output_type": "display_data"
    }
   ],
   "source": [
    "standart_hist(df_analyst_pvt.message_mean,\n",
    "              'Среднее по сообщениям', 'Месяц', 'Среднее количество')"
   ]
  },
  {
   "cell_type": "code",
   "execution_count": 27,
   "metadata": {},
   "outputs": [
    {
     "data": {
      "image/png": "[encoded data removed]",
      "text/plain": [
       "<Figure size 1152x432 with 2 Axes>"
      ]
     },
     "metadata": {
      "needs_background": "light"
     },
     "output_type": "display_data"
    }
   ],
   "source": [
    "# Звонки\n",
    "\n",
    "df_analyst.hist('duration_sum', 'tariff', figsize=(16,6))\n",
    "plt.show()"
   ]
  },
  {
   "cell_type": "code",
   "execution_count": 28,
   "metadata": {},
   "outputs": [
    {
     "data": {
      "image/png": "[encoded data removed]",
      "text/plain": [
       "<Figure size 1152x432 with 2 Axes>"
      ]
     },
     "metadata": {
      "needs_background": "light"
     },
     "output_type": "display_data"
    }
   ],
   "source": [
    "# Сообщения\n",
    "\n",
    "df_analyst.hist('message_count', 'tariff', figsize=(16,6))\n",
    "plt.show()"
   ]
  },
  {
   "cell_type": "code",
   "execution_count": 29,
   "metadata": {},
   "outputs": [
    {
     "data": {
      "image/png": "[encoded data removed]",
      "text/plain": [
       "<Figure size 1152x432 with 2 Axes>"
      ]
     },
     "metadata": {
      "needs_background": "light"
     },
     "output_type": "display_data"
    }
   ],
   "source": [
    "# Интернет\n",
    "\n",
    "df_analyst.hist('mb_used_sum', 'tariff', figsize=(16,6))\n",
    "plt.show()"
   ]
  },
  {
   "cell_type": "code",
   "execution_count": 30,
   "metadata": {},
   "outputs": [],
   "source": [
    "# Для построения диаграммы выберу точки. Можно отслеживать интенсивность, когда много значений.\n",
    "\n",
    "df_overpay = (df_earnings[df_earnings['rub_monthly_fee'] < df_earnings['earnings']]\n",
    "              .sort_values('earnings', ascending=False))\n",
    "\n",
    "df_overpay_u = df_overpay[df_overpay['tariff'] == 'ultra']\n",
    "df_overpay_s = df_overpay[df_overpay['tariff'] == 'smart']\n",
    "\n",
    "def construct_scatter(col, title, xlab, ylab):\n",
    "    fig, ax = plt.subplots(1, 1, figsize=(16,10), dpi=80)\n",
    "\n",
    "    plt.scatter(df_overpay_u.month+0.1, df_overpay_u[col], color='tab:red', label = 'ultra')\n",
    "    plt.scatter(df_overpay_s.month-0.1, df_overpay_s[col], color='tab:blue', label = 'smart')\n",
    "    ax.set_title(title, fontdict={'size':12})\n",
    "    ax.set(xlabel=xlab, ylabel=ylab)\n",
    "    plt.xticks(df_overpay_u.month, horizontalalignment='right', fontsize=12)\n",
    "    plt.legend()\n",
    "    plt.show()"
   ]
  },
  {
   "cell_type": "code",
   "execution_count": 31,
   "metadata": {},
   "outputs": [
    {
     "data": {
      "image/png": "[encoded data removed]",
      "text/plain": [
       "<Figure size 1280x800 with 1 Axes>"
      ]
     },
     "metadata": {
      "needs_background": "light"
     },
     "output_type": "display_data"
    }
   ],
   "source": [
    "construct_scatter('earnings', \n",
    "                  'Выручка всего сверх тарифа', \n",
    "                  'Месяц', \n",
    "                  'Выручка')"
   ]
  },
  {
   "cell_type": "code",
   "execution_count": 32,
   "metadata": {},
   "outputs": [
    {
     "data": {
      "image/png": "[encoded data removed]",
      "text/plain": [
       "<Figure size 1280x800 with 1 Axes>"
      ]
     },
     "metadata": {
      "needs_background": "light"
     },
     "output_type": "display_data"
    }
   ],
   "source": [
    "construct_scatter('call_earnings', \n",
    "                  'Выручка по звонкам сверх тарифа', \n",
    "                  'Месяц', \n",
    "                  'Выручка')"
   ]
  },
  {
   "cell_type": "code",
   "execution_count": 33,
   "metadata": {},
   "outputs": [
    {
     "data": {
      "image/png": "[encoded data removed]",
      "text/plain": [
       "<Figure size 1280x800 with 1 Axes>"
      ]
     },
     "metadata": {
      "needs_background": "light"
     },
     "output_type": "display_data"
    }
   ],
   "source": [
    "construct_scatter('msg_earnings', \n",
    "                  'Выручка по сообщениям сверх тарифа', \n",
    "                  'Месяц', \n",
    "                  'Выручка')"
   ]
  },
  {
   "cell_type": "code",
   "execution_count": 34,
   "metadata": {},
   "outputs": [
    {
     "data": {
      "image/png": "[encoded data removed]",
      "text/plain": [
       "<Figure size 1280x800 with 1 Axes>"
      ]
     },
     "metadata": {
      "needs_background": "light"
     },
     "output_type": "display_data"
    }
   ],
   "source": [
    "construct_scatter('int_earnings', \n",
    "                  'Выручка по интернету сверх тарифа', \n",
    "                  'Месяц', \n",
    "                  'Выручка')"
   ]
  },
  {
   "cell_type": "code",
   "execution_count": 35,
   "metadata": {},
   "outputs": [
    {
     "data": {
      "text/html": [
       "<div>\n",
       "<style scoped>\n",
       "    .dataframe tbody tr th:only-of-type {\n",
       "        vertical-align: middle;\n",
       "    }\n",
       "\n",
       "    .dataframe tbody tr th {\n",
       "        vertical-align: top;\n",
       "    }\n",
       "\n",
       "    .dataframe thead th {\n",
       "        text-align: right;\n",
       "    }\n",
       "</style>\n",
       "<table border=\"1\" class=\"dataframe\">\n",
       "  <thead>\n",
       "    <tr style=\"text-align: right;\">\n",
       "      <th></th>\n",
       "      <th>tariff</th>\n",
       "      <th>duration_var</th>\n",
       "      <th>mb_used_var</th>\n",
       "      <th>message_var</th>\n",
       "    </tr>\n",
       "  </thead>\n",
       "  <tbody>\n",
       "    <tr>\n",
       "      <td>0</td>\n",
       "      <td>smart</td>\n",
       "      <td>32361.127482</td>\n",
       "      <td>3.446227e+07</td>\n",
       "      <td>796.812958</td>\n",
       "    </tr>\n",
       "    <tr>\n",
       "      <td>1</td>\n",
       "      <td>ultra</td>\n",
       "      <td>89822.976563</td>\n",
       "      <td>1.017512e+08</td>\n",
       "      <td>2285.266143</td>\n",
       "    </tr>\n",
       "  </tbody>\n",
       "</table>\n",
       "</div>"
      ],
      "text/plain": [
       "  tariff  duration_var   mb_used_var  message_var\n",
       "0  smart  32361.127482  3.446227e+07   796.812958\n",
       "1  ultra  89822.976563  1.017512e+08  2285.266143"
      ]
     },
     "execution_count": 35,
     "metadata": {},
     "output_type": "execute_result"
    }
   ],
   "source": [
    "# Найдём дисперсию.\n",
    "\n",
    "df_analyst_pvt = (df_analyst\n",
    " .pivot_table(index=['tariff'], values=['duration_sum', 'message_count', 'mb_used_sum'], aggfunc = ['var'])\n",
    " .reset_index())\n",
    "\n",
    "df_analyst_pvt.columns = ['tariff', 'duration_var', 'mb_used_var', 'message_var']\n",
    "df_analyst_pvt"
   ]
  },
  {
   "cell_type": "code",
   "execution_count": 36,
   "metadata": {},
   "outputs": [
    {
     "data": {
      "text/html": [
       "<div>\n",
       "<style scoped>\n",
       "    .dataframe tbody tr th:only-of-type {\n",
       "        vertical-align: middle;\n",
       "    }\n",
       "\n",
       "    .dataframe tbody tr th {\n",
       "        vertical-align: top;\n",
       "    }\n",
       "\n",
       "    .dataframe thead th {\n",
       "        text-align: right;\n",
       "    }\n",
       "</style>\n",
       "<table border=\"1\" class=\"dataframe\">\n",
       "  <thead>\n",
       "    <tr style=\"text-align: right;\">\n",
       "      <th></th>\n",
       "      <th>tariff</th>\n",
       "      <th>duration_std</th>\n",
       "      <th>mb_used_std</th>\n",
       "      <th>message_std</th>\n",
       "    </tr>\n",
       "  </thead>\n",
       "  <tbody>\n",
       "    <tr>\n",
       "      <td>0</td>\n",
       "      <td>smart</td>\n",
       "      <td>179.891988</td>\n",
       "      <td>5870.457630</td>\n",
       "      <td>28.227876</td>\n",
       "    </tr>\n",
       "    <tr>\n",
       "      <td>1</td>\n",
       "      <td>ultra</td>\n",
       "      <td>299.704816</td>\n",
       "      <td>10087.181432</td>\n",
       "      <td>47.804457</td>\n",
       "    </tr>\n",
       "  </tbody>\n",
       "</table>\n",
       "</div>"
      ],
      "text/plain": [
       "  tariff  duration_std   mb_used_std  message_std\n",
       "0  smart    179.891988   5870.457630    28.227876\n",
       "1  ultra    299.704816  10087.181432    47.804457"
      ]
     },
     "execution_count": 36,
     "metadata": {},
     "output_type": "execute_result"
    }
   ],
   "source": [
    "# Найдём стандартное отклонение.\n",
    "\n",
    "df_analyst_pvt = (df_analyst\n",
    " .pivot_table(index=['tariff'], values=['duration_sum', 'message_count', 'mb_used_sum'], aggfunc = ['std'])\n",
    " .reset_index())\n",
    "\n",
    "df_analyst_pvt.columns = ['tariff', 'duration_std', 'mb_used_std' ,'message_std']\n",
    "df_analyst_pvt"
   ]
  },
  {
   "cell_type": "code",
   "execution_count": 37,
   "metadata": {},
   "outputs": [
    {
     "data": {
      "text/html": [
       "<div>\n",
       "<style scoped>\n",
       "    .dataframe tbody tr th:only-of-type {\n",
       "        vertical-align: middle;\n",
       "    }\n",
       "\n",
       "    .dataframe tbody tr th {\n",
       "        vertical-align: top;\n",
       "    }\n",
       "\n",
       "    .dataframe thead th {\n",
       "        text-align: right;\n",
       "    }\n",
       "</style>\n",
       "<table border=\"1\" class=\"dataframe\">\n",
       "  <thead>\n",
       "    <tr style=\"text-align: right;\">\n",
       "      <th></th>\n",
       "      <th>tariff</th>\n",
       "      <th>duration_mean</th>\n",
       "      <th>mb_used_mean</th>\n",
       "      <th>message_mean</th>\n",
       "    </tr>\n",
       "  </thead>\n",
       "  <tbody>\n",
       "    <tr>\n",
       "      <td>0</td>\n",
       "      <td>smart</td>\n",
       "      <td>394.26873</td>\n",
       "      <td>16208.425303</td>\n",
       "      <td>33.384029</td>\n",
       "    </tr>\n",
       "    <tr>\n",
       "      <td>1</td>\n",
       "      <td>ultra</td>\n",
       "      <td>496.88934</td>\n",
       "      <td>19468.824365</td>\n",
       "      <td>49.363452</td>\n",
       "    </tr>\n",
       "  </tbody>\n",
       "</table>\n",
       "</div>"
      ],
      "text/plain": [
       "  tariff  duration_mean  mb_used_mean  message_mean\n",
       "0  smart      394.26873  16208.425303     33.384029\n",
       "1  ultra      496.88934  19468.824365     49.363452"
      ]
     },
     "execution_count": 37,
     "metadata": {},
     "output_type": "execute_result"
    }
   ],
   "source": [
    "# Найдём среднее.\n",
    "\n",
    "df_analyst_pvt = (df_analyst\n",
    " .pivot_table(index=['tariff'], values=['duration_sum', 'message_count', 'mb_used_sum'], aggfunc = ['mean'])\n",
    " .reset_index())\n",
    "\n",
    "df_analyst_pvt.columns = ['tariff', 'duration_mean', 'mb_used_mean', 'message_mean']\n",
    "df_analyst_pvt"
   ]
  },
  {
   "cell_type": "code",
   "execution_count": 38,
   "metadata": {},
   "outputs": [
    {
     "data": {
      "image/png": "[encoded data removed]",
      "text/plain": [
       "<Figure size 1280x480 with 1 Axes>"
      ]
     },
     "metadata": {
      "needs_background": "light"
     },
     "output_type": "display_data"
    }
   ],
   "source": [
    "# Рисуем распределение.\n",
    "\n",
    "import math as mt\n",
    "from scipy.stats import norm\n",
    "\n",
    "\n",
    "df_earnings_u = df_earnings[df_earnings['tariff'] == 'ultra']\n",
    "\n",
    "fig, ax = plt.subplots(figsize=(16,6), dpi= 80)\n",
    "\n",
    "\n",
    "n = df_earnings_u.earnings.count()\n",
    "p = df_earnings_u[df_earnings_u['earnings']>df_earnings_u['rub_monthly_fee']].earnings.count()/df_earnings_u.earnings.count()\n",
    "\n",
    "\n",
    "mu = n * p\n",
    "var = n * p * (1-p)\n",
    "sigma = mt.sqrt(var)\n",
    "\n",
    "x = range(0, n+1)\n",
    "norm_r = norm.pdf(x, mu, sigma)\n",
    "\n",
    "plt.plot(range(0,n+1), norm_r[0:], color='tab:red', label = 'ultra')\n",
    "\n",
    "\n",
    "ax.set_title('Распределение для тарифов', fontdict={'size':16})\n",
    "ax.set(xlabel='Количество', ylabel='Вероятность')\n",
    "plt.legend()\n",
    "plt.show()"
   ]
  },
  {
   "cell_type": "code",
   "execution_count": 39,
   "metadata": {},
   "outputs": [
    {
     "data": {
      "image/png": "[encoded data removed]",
      "text/plain": [
       "<Figure size 1280x480 with 1 Axes>"
      ]
     },
     "metadata": {
      "needs_background": "light"
     },
     "output_type": "display_data"
    }
   ],
   "source": [
    "fig, ax = plt.subplots(figsize=(16,6), dpi= 80)\n",
    "\n",
    "\n",
    "df_earnings_s = df_earnings[df_earnings['tariff'] == 'smart']\n",
    "\n",
    "n = df_earnings_s.earnings.count()\n",
    "p = df_earnings_s[df_earnings_s['earnings']>df_earnings_s['rub_monthly_fee']].earnings.count()/df_earnings_s.earnings.count()\n",
    "\n",
    "\n",
    "mu = n * p\n",
    "var = n * p * (1-p)\n",
    "sigma = mt.sqrt(var)\n",
    "\n",
    "x = range(0, n+1)\n",
    "norm_r = norm.pdf(x, mu, sigma)\n",
    "\n",
    "plt.plot(range(0,n+1), norm_r[0:], color='tab:blue', label = 'smart')\n",
    "\n",
    "\n",
    "ax.set_title('Распределение для тарифов', fontdict={'size':16})\n",
    "ax.set(xlabel='Количество', ylabel='Вероятность')\n",
    "plt.legend()\n",
    "plt.show()"
   ]
  },
  {
   "cell_type": "markdown",
   "metadata": {},
   "source": [
    "### Вывод\n",
    "\n",
    "По графикам среднего можно увидеть, что потребление звонков, интернета и сообщений максимально растёт от месяца к месяцу. Возможно, это сезонная динамика - спад в январе и рост до декабря из года в год.\n",
    "\n",
    "По графикам потребления по услуге и тарифу можно увидеть, что больше потребляют пользователи с тарифом ultra.\n",
    "\n",
    "По графикам выручки, можно увидеть, что многие пользователи тарифа smart превышают потребление определенное тарифом по всем услугам. По графику видим, что выручка от превышения тарифа smart часто превышает выручку от тарифа ultra. С другой стороны, пользователи тарифа ultra превышают только потребление интернета.\n",
    "\n",
    "Стандартное отклонение показывает разброс реальных значений, можно заметить, что число больше других приходится на интернет.\n",
    "\n",
    "Биноминальное распределение ultra скошено вправо, вероятность того, что пользователи будут превышать абонентскую плату - мала. И иначе выглядит распределение тарифа smart - скошено влево, это значит, что вероятность оплаты сверх тарифа велика. Использована апроксимация, так как n велико. "
   ]
  },
  {
   "cell_type": "markdown",
   "metadata": {},
   "source": [
    "## Шаг 4. Проверьте гипотезы"
   ]
  },
  {
   "cell_type": "code",
   "execution_count": 40,
   "metadata": {},
   "outputs": [],
   "source": [
    "# Датасет для задачи.\n",
    "df_hip = df_earnings[['city', 'tariff', 'earnings']]"
   ]
  },
  {
   "cell_type": "code",
   "execution_count": 41,
   "metadata": {},
   "outputs": [
    {
     "name": "stdout",
     "output_type": "stream",
     "text": [
      "p-значение:  7.973780789145512e-214\n",
      "Отвергаем нулевую гипотезу\n"
     ]
    }
   ],
   "source": [
    "\"\"\"\n",
    "Формируем нулевую гипотезу:\n",
    "средняя выручка пользователей тарифов Ультра и Смарт равны\n",
    "Альтернативная:\n",
    "средняя выручка пользователей тарифов Ультра и Смарт различается \n",
    "\"\"\"\n",
    "\n",
    "from scipy import stats as st\n",
    "   \n",
    "alpha = .01 # критический уровень статистической значимости\n",
    "    \n",
    "results = st.ttest_ind(df_hip[df_hip['tariff'] == 'smart']['earnings'],\n",
    "                       df_hip[df_hip['tariff'] == 'ultra']['earnings'])\n",
    "    \n",
    "print('p-значение: ', results.pvalue)\n",
    "    \n",
    "if (results.pvalue < alpha):\n",
    "    print(\"Отвергаем нулевую гипотезу\")\n",
    "else:\n",
    "    print(\"Не получилось отвергнуть нулевую гипотезу\")"
   ]
  },
  {
   "cell_type": "code",
   "execution_count": 42,
   "metadata": {},
   "outputs": [
    {
     "data": {
      "text/plain": [
       "1196.0399282189323"
      ]
     },
     "execution_count": 42,
     "metadata": {},
     "output_type": "execute_result"
    }
   ],
   "source": [
    "df_hip[df_hip['tariff'] == 'smart']['earnings'].mean()"
   ]
  },
  {
   "cell_type": "code",
   "execution_count": 43,
   "metadata": {},
   "outputs": [
    {
     "data": {
      "text/plain": [
       "2059.492385786802"
      ]
     },
     "execution_count": 43,
     "metadata": {},
     "output_type": "execute_result"
    }
   ],
   "source": [
    "df_hip[df_hip['tariff'] == 'ultra']['earnings'].mean()"
   ]
  },
  {
   "cell_type": "code",
   "execution_count": 44,
   "metadata": {},
   "outputs": [
    {
     "name": "stdout",
     "output_type": "stream",
     "text": [
      "p-значение:  0.4418818160370708\n",
      "Не получилось отвергнуть нулевую гипотезу\n"
     ]
    }
   ],
   "source": [
    "\"\"\"\n",
    "Формируем нулевую гипотезу:\n",
    "средняя выручка пользователей из Москвы равна выручке пользователей из других регионов\n",
    "Альтернативная:\n",
    "средняя выручка пользователей из Москвы отличается от выручки пользователей из других регионов\n",
    "\"\"\"\n",
    "\n",
    "alpha = .01 # критический уровень статистической значимости\n",
    "    \n",
    "results = st.ttest_ind(\n",
    "    df_hip[df_hip['city'] == 'Москва']['earnings'],\n",
    "    df_hip[df_hip['city'] != 'Москва']['earnings'])\n",
    "    \n",
    "print('p-значение: ', results.pvalue)\n",
    "    \n",
    "if (results.pvalue < alpha):\n",
    "    print(\"Отвергаем нулевую гипотезу\")\n",
    "else:\n",
    "    print(\"Не получилось отвергнуть нулевую гипотезу\")"
   ]
  },
  {
   "cell_type": "markdown",
   "metadata": {},
   "source": [
    "### Вывод\n",
    "\n",
    "Для задачи возьмем критерий Стьюдента, двустороннюю гипотезу. Нулевая гипотеза формулируется, как отсутствие различий.\n",
    "Критерий значимости установим 0.01. Это значит, что смотрим на распределение справа и слева на 0,5% от предполагаемого значения.\n",
    "\n",
    "Таким образом, средняя выручка пользователей тарифов Ультра и Смарт различается, а средняя выручка пользователей из Москвы примерно равна выручке пользователей из других регионов."
   ]
  },
  {
   "cell_type": "markdown",
   "metadata": {},
   "source": [
    "## Шаг 5. Напишите общий вывод"
   ]
  },
  {
   "cell_type": "markdown",
   "metadata": {},
   "source": [
    "Получили 5 разных таблиц, 4 из которых были объеденены user_id. \n",
    "\n",
    "Провели предобработку даных, собрали их в такой вид, из которого уже можно получать информацию.\n",
    "\n",
    "Проанализировали данные. Выявили, что потребление растёт от месяца к месяцу. Также увидели, что превышение звонков, сообщений и интернета чаще всего происходит у пользователей smart. \n",
    "\n",
    "Проверили гипотезы. Выявили, что средняя выручка на тарифе smart и ultra различается. Если смотреть по цифрам, то в 2 раза. Хоть большинство пользователей тарифа smart и превышают рамки абонентской платы, но всё же по средней выручке они не дотягивают до средней по тарифу ultra. Можно заключить, что пользователи тарифа ultra платят больше.\n",
    "\n",
    "<b> Для оператора наиболее перспективно подключать пользователей на тариф ultra </b>\n"
   ]
  }
 ],
 "metadata": {
  "kernelspec": {
   "display_name": "Python 3",
   "language": "python",
   "name": "python3"
  },
  "language_info": {
   "codemirror_mode": {
    "name": "ipython",
    "version": 3
   },
   "file_extension": ".py",
   "mimetype": "text/x-python",
   "name": "python",
   "nbconvert_exporter": "python",
   "pygments_lexer": "ipython3",
   "version": "3.7.6"
  }
 },
 "nbformat": 4,
 "nbformat_minor": 2
}
