{
 "cells": [
  {
   "cell_type": "markdown",
   "metadata": {},
   "source": [
    "# Отток клиентов"
   ]
  },
  {
   "cell_type": "markdown",
   "metadata": {},
   "source": [
    "Из «Бета-Банка» стали уходить клиенты. Каждый месяц. Немного, но заметно. Банковские маркетологи посчитали: сохранять текущих клиентов дешевле, чем привлекать новых.\n",
    "\n",
    "Нужно спрогнозировать, уйдёт клиент из банка в ближайшее время или нет. Вам предоставлены исторические данные о поведении клиентов и расторжении договоров с банком. \n",
    "\n",
    "Постройте модель с предельно большим значением *F1*-меры. Чтобы сдать проект успешно, нужно довести метрику до 0.59. Проверьте *F1*-меру на тестовой выборке самостоятельно.\n",
    "\n",
    "Дополнительно измеряйте *AUC-ROC*, сравнивайте её значение с *F1*-мерой.\n",
    "\n",
    "Источник данных: [https://www.kaggle.com/barelydedicated/bank-customer-churn-modeling](https://www.kaggle.com/barelydedicated/bank-customer-churn-modeling)"
   ]
  },
  {
   "cell_type": "markdown",
   "metadata": {},
   "source": [
    "Признаки\n",
    "\n",
    "    RowNumber — индекс строки в данных\n",
    "    CustomerId — уникальный идентификатор клиента\n",
    "    Surname — фамилия\n",
    "    CreditScore — кредитный рейтинг\n",
    "    Geography — страна проживания\n",
    "    Gender — пол\n",
    "    Age — возраст\n",
    "    Tenure — количество недвижимости у клиента\n",
    "    Balance — баланс на счёте\n",
    "    NumOfProducts — количество продуктов банка, используемых клиентом\n",
    "    HasCrCard — наличие кредитной карты\n",
    "    IsActiveMember — активность клиента\n",
    "    EstimatedSalary — предполагаемая зарплата\n",
    "\n",
    "Целевой признак\n",
    "\n",
    "    Exited — факт ухода клиента"
   ]
  },
  {
   "cell_type": "markdown",
   "metadata": {},
   "source": [
    "# 1. Подготовка данных"
   ]
  },
  {
   "cell_type": "markdown",
   "metadata": {},
   "source": [
    "Загрузим и подготовим данные. А также обновим/добавим библиотеки."
   ]
  },
  {
   "cell_type": "code",
   "execution_count": 1,
   "metadata": {},
   "outputs": [
    {
     "name": "stdout",
     "output_type": "stream",
     "text": [
      "Defaulting to user installation because normal site-packages is not writeable\n",
      "Collecting scikit-learn\n",
      "  Downloading scikit_learn-0.23.2-cp37-cp37m-manylinux1_x86_64.whl (6.8 MB)\n",
      "\u001b[K     |████████████████████████████████| 6.8 MB 49 kB/s eta 0:00:011\n",
      "\u001b[?25hRequirement already satisfied, skipping upgrade: numpy>=1.13.3 in /opt/conda/lib/python3.7/site-packages (from scikit-learn) (1.19.0)\n",
      "Requirement already satisfied, skipping upgrade: joblib>=0.11 in /opt/conda/lib/python3.7/site-packages (from scikit-learn) (0.16.0)\n",
      "Requirement already satisfied, skipping upgrade: scipy>=0.19.1 in /opt/conda/lib/python3.7/site-packages (from scikit-learn) (1.4.1)\n",
      "Collecting threadpoolctl>=2.0.0\n",
      "  Downloading threadpoolctl-2.1.0-py3-none-any.whl (12 kB)\n",
      "Installing collected packages: threadpoolctl, scikit-learn\n",
      "Successfully installed scikit-learn-0.23.2 threadpoolctl-2.1.0\n",
      "Note: you may need to restart the kernel to use updated packages.\n"
     ]
    }
   ],
   "source": [
    "pip install -U scikit-learn"
   ]
  },
  {
   "cell_type": "code",
   "execution_count": 2,
   "metadata": {},
   "outputs": [
    {
     "name": "stdout",
     "output_type": "stream",
     "text": [
      "Defaulting to user installation because normal site-packages is not writeable\n",
      "Collecting imbalanced-learn\n",
      "  Downloading imbalanced_learn-0.7.0-py3-none-any.whl (167 kB)\n",
      "\u001b[K     |████████████████████████████████| 167 kB 805 kB/s eta 0:00:01\n",
      "\u001b[?25hRequirement already satisfied, skipping upgrade: joblib>=0.11 in /opt/conda/lib/python3.7/site-packages (from imbalanced-learn) (0.16.0)\n",
      "Requirement already satisfied, skipping upgrade: scikit-learn>=0.23 in /home/jovyan/.local/lib/python3.7/site-packages (from imbalanced-learn) (0.23.2)\n",
      "Requirement already satisfied, skipping upgrade: scipy>=0.19.1 in /opt/conda/lib/python3.7/site-packages (from imbalanced-learn) (1.4.1)\n",
      "Requirement already satisfied, skipping upgrade: numpy>=1.13.3 in /opt/conda/lib/python3.7/site-packages (from imbalanced-learn) (1.19.0)\n",
      "Requirement already satisfied, skipping upgrade: threadpoolctl>=2.0.0 in /home/jovyan/.local/lib/python3.7/site-packages (from scikit-learn>=0.23->imbalanced-learn) (2.1.0)\n",
      "Installing collected packages: imbalanced-learn\n",
      "Successfully installed imbalanced-learn-0.7.0\n",
      "Note: you may need to restart the kernel to use updated packages.\n"
     ]
    }
   ],
   "source": [
    "pip install -U imbalanced-learn"
   ]
  },
  {
   "cell_type": "code",
   "execution_count": 3,
   "metadata": {},
   "outputs": [
    {
     "name": "stdout",
     "output_type": "stream",
     "text": [
      "<class 'pandas.core.frame.DataFrame'>\n",
      "RangeIndex: 10000 entries, 0 to 9999\n",
      "Data columns (total 14 columns):\n",
      "RowNumber          10000 non-null int64\n",
      "CustomerId         10000 non-null int64\n",
      "Surname            10000 non-null object\n",
      "CreditScore        10000 non-null int64\n",
      "Geography          10000 non-null object\n",
      "Gender             10000 non-null object\n",
      "Age                10000 non-null int64\n",
      "Tenure             9091 non-null float64\n",
      "Balance            10000 non-null float64\n",
      "NumOfProducts      10000 non-null int64\n",
      "HasCrCard          10000 non-null int64\n",
      "IsActiveMember     10000 non-null int64\n",
      "EstimatedSalary    10000 non-null float64\n",
      "Exited             10000 non-null int64\n",
      "dtypes: float64(3), int64(8), object(3)\n",
      "memory usage: 1.1+ MB\n"
     ]
    }
   ],
   "source": [
    "import pandas as pd\n",
    "import numpy as np\n",
    "from sklearn.model_selection import train_test_split\n",
    "from sklearn.metrics import f1_score\n",
    "from sklearn.preprocessing import OrdinalEncoder\n",
    "from sklearn.metrics import confusion_matrix\n",
    "from sklearn.metrics import roc_auc_score\n",
    "\n",
    "df = pd.read_csv('/datasets/Churn.csv')\n",
    "df.info()"
   ]
  },
  {
   "cell_type": "code",
   "execution_count": 4,
   "metadata": {},
   "outputs": [
    {
     "data": {
      "text/html": [
       "<div>\n",
       "<style scoped>\n",
       "    .dataframe tbody tr th:only-of-type {\n",
       "        vertical-align: middle;\n",
       "    }\n",
       "\n",
       "    .dataframe tbody tr th {\n",
       "        vertical-align: top;\n",
       "    }\n",
       "\n",
       "    .dataframe thead th {\n",
       "        text-align: right;\n",
       "    }\n",
       "</style>\n",
       "<table border=\"1\" class=\"dataframe\">\n",
       "  <thead>\n",
       "    <tr style=\"text-align: right;\">\n",
       "      <th></th>\n",
       "      <th>RowNumber</th>\n",
       "      <th>CustomerId</th>\n",
       "      <th>Surname</th>\n",
       "      <th>CreditScore</th>\n",
       "      <th>Geography</th>\n",
       "      <th>Gender</th>\n",
       "      <th>Age</th>\n",
       "      <th>Tenure</th>\n",
       "      <th>Balance</th>\n",
       "      <th>NumOfProducts</th>\n",
       "      <th>HasCrCard</th>\n",
       "      <th>IsActiveMember</th>\n",
       "      <th>EstimatedSalary</th>\n",
       "      <th>Exited</th>\n",
       "    </tr>\n",
       "  </thead>\n",
       "  <tbody>\n",
       "    <tr>\n",
       "      <td>0</td>\n",
       "      <td>1</td>\n",
       "      <td>15634602</td>\n",
       "      <td>Hargrave</td>\n",
       "      <td>619</td>\n",
       "      <td>France</td>\n",
       "      <td>Female</td>\n",
       "      <td>42</td>\n",
       "      <td>2.0</td>\n",
       "      <td>0.00</td>\n",
       "      <td>1</td>\n",
       "      <td>1</td>\n",
       "      <td>1</td>\n",
       "      <td>101348.88</td>\n",
       "      <td>1</td>\n",
       "    </tr>\n",
       "    <tr>\n",
       "      <td>1</td>\n",
       "      <td>2</td>\n",
       "      <td>15647311</td>\n",
       "      <td>Hill</td>\n",
       "      <td>608</td>\n",
       "      <td>Spain</td>\n",
       "      <td>Female</td>\n",
       "      <td>41</td>\n",
       "      <td>1.0</td>\n",
       "      <td>83807.86</td>\n",
       "      <td>1</td>\n",
       "      <td>0</td>\n",
       "      <td>1</td>\n",
       "      <td>112542.58</td>\n",
       "      <td>0</td>\n",
       "    </tr>\n",
       "    <tr>\n",
       "      <td>2</td>\n",
       "      <td>3</td>\n",
       "      <td>15619304</td>\n",
       "      <td>Onio</td>\n",
       "      <td>502</td>\n",
       "      <td>France</td>\n",
       "      <td>Female</td>\n",
       "      <td>42</td>\n",
       "      <td>8.0</td>\n",
       "      <td>159660.80</td>\n",
       "      <td>3</td>\n",
       "      <td>1</td>\n",
       "      <td>0</td>\n",
       "      <td>113931.57</td>\n",
       "      <td>1</td>\n",
       "    </tr>\n",
       "    <tr>\n",
       "      <td>3</td>\n",
       "      <td>4</td>\n",
       "      <td>15701354</td>\n",
       "      <td>Boni</td>\n",
       "      <td>699</td>\n",
       "      <td>France</td>\n",
       "      <td>Female</td>\n",
       "      <td>39</td>\n",
       "      <td>1.0</td>\n",
       "      <td>0.00</td>\n",
       "      <td>2</td>\n",
       "      <td>0</td>\n",
       "      <td>0</td>\n",
       "      <td>93826.63</td>\n",
       "      <td>0</td>\n",
       "    </tr>\n",
       "    <tr>\n",
       "      <td>4</td>\n",
       "      <td>5</td>\n",
       "      <td>15737888</td>\n",
       "      <td>Mitchell</td>\n",
       "      <td>850</td>\n",
       "      <td>Spain</td>\n",
       "      <td>Female</td>\n",
       "      <td>43</td>\n",
       "      <td>2.0</td>\n",
       "      <td>125510.82</td>\n",
       "      <td>1</td>\n",
       "      <td>1</td>\n",
       "      <td>1</td>\n",
       "      <td>79084.10</td>\n",
       "      <td>0</td>\n",
       "    </tr>\n",
       "  </tbody>\n",
       "</table>\n",
       "</div>"
      ],
      "text/plain": [
       "   RowNumber  CustomerId   Surname  CreditScore Geography  Gender  Age  \\\n",
       "0          1    15634602  Hargrave          619    France  Female   42   \n",
       "1          2    15647311      Hill          608     Spain  Female   41   \n",
       "2          3    15619304      Onio          502    France  Female   42   \n",
       "3          4    15701354      Boni          699    France  Female   39   \n",
       "4          5    15737888  Mitchell          850     Spain  Female   43   \n",
       "\n",
       "   Tenure    Balance  NumOfProducts  HasCrCard  IsActiveMember  \\\n",
       "0     2.0       0.00              1          1               1   \n",
       "1     1.0   83807.86              1          0               1   \n",
       "2     8.0  159660.80              3          1               0   \n",
       "3     1.0       0.00              2          0               0   \n",
       "4     2.0  125510.82              1          1               1   \n",
       "\n",
       "   EstimatedSalary  Exited  \n",
       "0        101348.88       1  \n",
       "1        112542.58       0  \n",
       "2        113931.57       1  \n",
       "3         93826.63       0  \n",
       "4         79084.10       0  "
      ]
     },
     "execution_count": 4,
     "metadata": {},
     "output_type": "execute_result"
    }
   ],
   "source": [
    "df.head()"
   ]
  },
  {
   "cell_type": "markdown",
   "metadata": {},
   "source": [
    "Можем увидеть, что данные в модели разных типов, а также есть пропуски в Tenure. Можно предположить, что не заполнены значения, потому что нет недвижимости у клиента. Заполним нулями.<br>\n",
    "Столбцы RowNumber, CustomerId и Surname для обучения модели не информативны, их из датасета можем исключить."
   ]
  },
  {
   "cell_type": "code",
   "execution_count": 5,
   "metadata": {},
   "outputs": [
    {
     "name": "stdout",
     "output_type": "stream",
     "text": [
      "<class 'pandas.core.frame.DataFrame'>\n",
      "RangeIndex: 10000 entries, 0 to 9999\n",
      "Data columns (total 11 columns):\n",
      "CreditScore        10000 non-null int64\n",
      "Geography          10000 non-null object\n",
      "Gender             10000 non-null object\n",
      "Age                10000 non-null int64\n",
      "Tenure             10000 non-null float64\n",
      "Balance            10000 non-null float64\n",
      "NumOfProducts      10000 non-null int64\n",
      "HasCrCard          10000 non-null int64\n",
      "IsActiveMember     10000 non-null int64\n",
      "EstimatedSalary    10000 non-null float64\n",
      "Exited             10000 non-null int64\n",
      "dtypes: float64(3), int64(6), object(2)\n",
      "memory usage: 859.5+ KB\n"
     ]
    }
   ],
   "source": [
    "df = df.fillna(0)\n",
    "df = df.drop(['RowNumber', 'CustomerId', 'Surname'] , axis=1)\n",
    "df.info()"
   ]
  },
  {
   "cell_type": "markdown",
   "metadata": {},
   "source": [
    "# 2. Исследование задачи"
   ]
  },
  {
   "cell_type": "markdown",
   "metadata": {},
   "source": [
    "Исследуем баланс классов.<br>\n",
    "Видно, что классы не сбалансированы."
   ]
  },
  {
   "cell_type": "code",
   "execution_count": 6,
   "metadata": {},
   "outputs": [
    {
     "data": {
      "text/plain": [
       "0    7963\n",
       "1    2037\n",
       "Name: Exited, dtype: int64"
      ]
     },
     "execution_count": 6,
     "metadata": {},
     "output_type": "execute_result"
    }
   ],
   "source": [
    "df['Exited'].value_counts()"
   ]
  },
  {
   "cell_type": "code",
   "execution_count": 24,
   "metadata": {},
   "outputs": [
    {
     "data": {
      "text/plain": [
       "<matplotlib.axes._subplots.AxesSubplot at 0x7f4f5db221d0>"
      ]
     },
     "execution_count": 24,
     "metadata": {},
     "output_type": "execute_result"
    },
    {
     "data": {
      "image/png": "[encoded data removed]",
      "text/plain": [
       "<Figure size 432x288 with 1 Axes>"
      ]
     },
     "metadata": {},
     "output_type": "display_data"
    }
   ],
   "source": [
    "df['Exited'].value_counts().plot.pie()"
   ]
  },
  {
   "cell_type": "markdown",
   "metadata": {},
   "source": [
    "Нам предстоит решить задачу бинарной классификации, поэтому для кодирования признаков применим OrdinalEncoder.<br>\n",
    "Загрузим модели из sklearn и пропустим наши данные без гиперпараметров."
   ]
  },
  {
   "cell_type": "code",
   "execution_count": 7,
   "metadata": {},
   "outputs": [],
   "source": [
    "encoder = OrdinalEncoder()\n",
    "\n",
    "features = df.drop(['Exited'], axis=1)\n",
    "target = df['Exited']\n",
    "\n",
    "features_ordinal = pd.DataFrame(encoder.fit_transform(features), columns=features.columns)\n",
    "\n",
    "# Сохраняем тестовую выборку.\n",
    "features, features_test, target, target_test = train_test_split(\n",
    "    features_ordinal, target, test_size=0.20, random_state=12)\n",
    "\n",
    "# Валидационную.\n",
    "features_train, features_valid, target_train, target_valid = train_test_split(\n",
    "    features, target, test_size=0.25, random_state=12)"
   ]
  },
  {
   "cell_type": "code",
   "execution_count": 8,
   "metadata": {},
   "outputs": [
    {
     "name": "stdout",
     "output_type": "stream",
     "text": [
      "model = RandomForestClassifier(random_state=12)\n",
      "f1 = 0.5620094191522763\n",
      "AUC-ROC = 0.7056250000000001 \n",
      "\n",
      "TN FP / FN TP \n",
      " [[1542   58]\n",
      " [ 221  179]] \n",
      "\n",
      "model = DecisionTreeClassifier(random_state=12)\n",
      "f1 = 0.4678217821782178\n",
      "AUC-ROC = 0.6678125 \n",
      "\n",
      "TN FP / FN TP \n",
      " [[1381  219]\n",
      " [ 211  189]] \n",
      "\n",
      "model = AdaBoostClassifier(random_state=12)\n",
      "f1 = 0.5701357466063348\n",
      "AUC-ROC = 0.713125 \n",
      "\n",
      "TN FP / FN TP \n",
      " [[1526   74]\n",
      " [ 211  189]] \n",
      "\n",
      "model = GradientBoostingClassifier(random_state=12)\n",
      "f1 = 0.6009244992295839\n",
      "AUC-ROC = 0.726875 \n",
      "\n",
      "TN FP / FN TP \n",
      " [[1546   54]\n",
      " [ 205  195]] \n",
      "\n"
     ]
    }
   ],
   "source": [
    "from sklearn.ensemble import RandomForestClassifier\n",
    "from sklearn.tree import DecisionTreeClassifier\n",
    "from sklearn.ensemble import AdaBoostClassifier\n",
    "from sklearn.ensemble import GradientBoostingClassifier\n",
    "\n",
    "\n",
    "def model(model_i):\n",
    "    model = model_i \n",
    "    model.fit(features_train, target_train)\n",
    "    predict_valid = model.predict(features_valid)\n",
    "    print(f'model = {model}') \n",
    "    print(f'f1 = {f1_score(target_valid, predict_valid)}')\n",
    "    print(f'AUC-ROC = {roc_auc_score(target_valid, predict_valid)} \\n')\n",
    "    print(f'TN FP / FN TP \\n {confusion_matrix(target_valid, predict_valid)} \\n')\n",
    "\n",
    "\n",
    "model(RandomForestClassifier(random_state=12))\n",
    "model(DecisionTreeClassifier(random_state=12))\n",
    "model(AdaBoostClassifier(random_state=12))\n",
    "model(GradientBoostingClassifier(random_state=12))"
   ]
  },
  {
   "cell_type": "markdown",
   "metadata": {},
   "source": [
    "### Вывод"
   ]
  },
  {
   "cell_type": "markdown",
   "metadata": {},
   "source": [
    "Модели на дисбалансированных данных отработали по разному.<br>\n",
    "Достойно - RandomForestClassifier, AdaBoostClassifier, GradientBoostingClassifier."
   ]
  },
  {
   "cell_type": "markdown",
   "metadata": {},
   "source": [
    "# 3. Борьба с дисбалансом"
   ]
  },
  {
   "cell_type": "markdown",
   "metadata": {},
   "source": [
    "Улучшим качество модели, учитывая дисбаланс классов.<br>\n",
    "Используем библиотеку imbalanced-learn."
   ]
  },
  {
   "cell_type": "code",
   "execution_count": 9,
   "metadata": {},
   "outputs": [],
   "source": [
    "# Андерсэмплинг с использованием Tomek Links и тестовыми данными.\n",
    "\n",
    "from imblearn.under_sampling import TomekLinks\n",
    "\n",
    "tl = TomekLinks(n_jobs=-1)\n",
    "features_tl, target_tl = tl.fit_resample(features, target)\n",
    "\n",
    "features_train, features_valid, target_train, target_valid = train_test_split(\n",
    "    features_tl, target_tl, test_size=0.25, random_state=12)"
   ]
  },
  {
   "cell_type": "code",
   "execution_count": 10,
   "metadata": {},
   "outputs": [
    {
     "name": "stdout",
     "output_type": "stream",
     "text": [
      "model = RandomForestClassifier(random_state=12)\n",
      "f1 = 0.5305466237942122\n",
      "AUC-ROC = 0.6879366458095406 \n",
      "\n",
      "TN FP / FN TP \n",
      " [[1365   66]\n",
      " [ 226  165]] \n",
      "\n",
      "model = DecisionTreeClassifier(random_state=12)\n",
      "f1 = 0.50126582278481\n",
      "AUC-ROC = 0.6829663229798345 \n",
      "\n",
      "TN FP / FN TP \n",
      " [[1230  201]\n",
      " [ 193  198]] \n",
      "\n",
      "model = AdaBoostClassifier(random_state=12)\n",
      "f1 = 0.5508607198748043\n",
      "AUC-ROC = 0.6999067059145233 \n",
      "\n",
      "TN FP / FN TP \n",
      " [[1359   72]\n",
      " [ 215  176]] \n",
      "\n",
      "model = GradientBoostingClassifier(random_state=12)\n",
      "f1 = 0.5631067961165048\n",
      "AUC-ROC = 0.7039878753433741 \n",
      "\n",
      "TN FP / FN TP \n",
      " [[1378   53]\n",
      " [ 217  174]] \n",
      "\n"
     ]
    }
   ],
   "source": [
    "def model(model_i):\n",
    "    model = model_i \n",
    "    model.fit(features_train, target_train)\n",
    "    predict_valid = model.predict(features_valid)\n",
    "    print(f'model = {model}') \n",
    "    print(f'f1 = {f1_score(target_valid, predict_valid)}')\n",
    "    print(f'AUC-ROC = {roc_auc_score(target_valid, predict_valid)} \\n')\n",
    "    print(f'TN FP / FN TP \\n {confusion_matrix(target_valid, predict_valid)} \\n')\n",
    "\n",
    "\n",
    "model(RandomForestClassifier(random_state=12))\n",
    "model(DecisionTreeClassifier(random_state=12))\n",
    "model(AdaBoostClassifier(random_state=12))\n",
    "model(GradientBoostingClassifier(random_state=12))"
   ]
  },
  {
   "cell_type": "code",
   "execution_count": 11,
   "metadata": {},
   "outputs": [],
   "source": [
    "# Оверсэмплинг со SMOTE и тестовыми данными.\n",
    "\n",
    "from imblearn.over_sampling import SMOTE\n",
    "\n",
    "smote = SMOTE(n_jobs=-1)\n",
    "features_sm, target_sm = smote.fit_sample(features, target)\n",
    "\n",
    "features_train, features_valid, target_train, target_valid = train_test_split(\n",
    "    features_sm, target_sm, test_size=0.25, random_state=12)"
   ]
  },
  {
   "cell_type": "code",
   "execution_count": 12,
   "metadata": {},
   "outputs": [
    {
     "name": "stdout",
     "output_type": "stream",
     "text": [
      "model = RandomForestClassifier(random_state=12)\n",
      "f1 = 0.9044025157232706\n",
      "AUC-ROC = 0.9059653427508346 \n",
      "\n",
      "TN FP / FN TP \n",
      " [[1458   95]\n",
      " [ 209 1438]] \n",
      "\n",
      "model = DecisionTreeClassifier(random_state=12)\n",
      "f1 = 0.8644888082274652\n",
      "AUC-ROC = 0.8597688395963549 \n",
      "\n",
      "TN FP / FN TP \n",
      " [[1323  230]\n",
      " [ 218 1429]] \n",
      "\n",
      "model = AdaBoostClassifier(random_state=12)\n",
      "f1 = 0.8939774153074027\n",
      "AUC-ROC = 0.8952576656966891 \n",
      "\n",
      "TN FP / FN TP \n",
      " [[1437  116]\n",
      " [ 222 1425]] \n",
      "\n",
      "model = GradientBoostingClassifier(random_state=12)\n",
      "f1 = 0.9034287511796163\n",
      "AUC-ROC = 0.9050362207076341 \n",
      "\n",
      "TN FP / FN TP \n",
      " [[1457   96]\n",
      " [ 211 1436]] \n",
      "\n"
     ]
    }
   ],
   "source": [
    "def model(model_i):\n",
    "    model = model_i \n",
    "    model.fit(features_train, target_train)\n",
    "    predict_valid = model.predict(features_valid)\n",
    "    print(f'model = {model}') \n",
    "    print(f'f1 = {f1_score(target_valid, predict_valid)}')\n",
    "    print(f'AUC-ROC = {roc_auc_score(target_valid, predict_valid)} \\n')\n",
    "    print(f'TN FP / FN TP \\n {confusion_matrix(target_valid, predict_valid)} \\n')\n",
    "\n",
    "\n",
    "model(RandomForestClassifier(random_state=12))\n",
    "model(DecisionTreeClassifier(random_state=12))\n",
    "model(AdaBoostClassifier(random_state=12))\n",
    "model(GradientBoostingClassifier(random_state=12))"
   ]
  },
  {
   "cell_type": "markdown",
   "metadata": {},
   "source": [
    "### Вывод"
   ]
  },
  {
   "cell_type": "markdown",
   "metadata": {},
   "source": [
    "Андерсэмплинг показывает примерно такие же результаты на валидационной выборке, как и без работы с дисбалансом.<br> \n",
    "Оверсэмплинг показывает очень впечатляющие результаты на валидационной выборке, но это из-за переобучения.<br>\n",
    "Возьмем топ модели для тестирования."
   ]
  },
  {
   "cell_type": "markdown",
   "metadata": {},
   "source": [
    "# 4. Тестирование моделей"
   ]
  },
  {
   "cell_type": "markdown",
   "metadata": {},
   "source": [
    "Проведем финальное тестирование.<br>\n",
    "Обучим модели с учетом дисбаланса."
   ]
  },
  {
   "cell_type": "code",
   "execution_count": 13,
   "metadata": {},
   "outputs": [
    {
     "name": "stdout",
     "output_type": "stream",
     "text": [
      "TomekLinks\n",
      "model = RandomForestClassifier(random_state=12)\n",
      "f1 = 0.6282578875171467\n",
      "AUC-ROC = 0.7421543208428166 \n",
      "\n",
      "TN FP / FN TP \n",
      " [[1500   64]\n",
      " [ 207  229]] \n",
      "\n",
      "SMOTE\n",
      "model = RandomForestClassifier(random_state=12)\n",
      "f1 = 0.6208791208791209\n",
      "AUC-ROC = 0.7380745676810812 \n",
      "\n",
      "TN FP / FN TP \n",
      " [[1498   66]\n",
      " [ 210  226]] \n",
      "\n",
      "TomekLinks\n",
      "model = DecisionTreeClassifier(random_state=12)\n",
      "f1 = 0.5039908779931584\n",
      "AUC-ROC = 0.6831078861540627 \n",
      "\n",
      "TN FP / FN TP \n",
      " [[1344  220]\n",
      " [ 215  221]] \n",
      "\n",
      "SMOTE\n",
      "model = DecisionTreeClassifier(random_state=12)\n",
      "f1 = 0.5405405405405406\n",
      "AUC-ROC = 0.7074544217367841 \n",
      "\n",
      "TN FP / FN TP \n",
      " [[1352  212]\n",
      " [ 196  240]] \n",
      "\n",
      "TomekLinks\n",
      "model = AdaBoostClassifier(random_state=12)\n",
      "f1 = 0.5845737483085252\n",
      "AUC-ROC = 0.7198931227856121 \n",
      "\n",
      "TN FP / FN TP \n",
      " [[1477   87]\n",
      " [ 220  216]] \n",
      "\n",
      "SMOTE\n",
      "model = AdaBoostClassifier(random_state=12)\n",
      "f1 = 0.5937888198757764\n",
      "AUC-ROC = 0.7325224665055491 \n",
      "\n",
      "TN FP / FN TP \n",
      " [[1434  130]\n",
      " [ 197  239]] \n",
      "\n",
      "TomekLinks\n",
      "model = GradientBoostingClassifier(random_state=12)\n",
      "f1 = 0.6090651558073654\n",
      "AUC-ROC = 0.7289765128229193 \n",
      "\n",
      "TN FP / FN TP \n",
      " [[1509   55]\n",
      " [ 221  215]] \n",
      "\n",
      "SMOTE\n",
      "model = GradientBoostingClassifier(random_state=12)\n",
      "f1 = 0.6176470588235294\n",
      "AUC-ROC = 0.7390131162157724 \n",
      "\n",
      "TN FP / FN TP \n",
      " [[1483   81]\n",
      " [ 205  231]] \n",
      "\n"
     ]
    }
   ],
   "source": [
    "def model(model_i):\n",
    "    model = model_i\n",
    "    model.fit(features_tl, target_tl)\n",
    "    predict_test = model.predict(features_test)\n",
    "    print('TomekLinks')\n",
    "    print(f'model = {model}') \n",
    "    print(f'f1 = {f1_score(target_test, predict_test)}')\n",
    "    print(f'AUC-ROC = {roc_auc_score(target_test, predict_test)} \\n')\n",
    "    print(f'TN FP / FN TP \\n {confusion_matrix(target_test, predict_test)} \\n')\n",
    "    \n",
    "    model = model_i\n",
    "    model.fit(features_sm, target_sm)\n",
    "    predict_test = model.predict(features_test)\n",
    "    print('SMOTE')\n",
    "    print(f'model = {model}') \n",
    "    print(f'f1 = {f1_score(target_test, predict_test)}')\n",
    "    print(f'AUC-ROC = {roc_auc_score(target_test, predict_test)} \\n')\n",
    "    print(f'TN FP / FN TP \\n {confusion_matrix(target_test, predict_test)} \\n')\n",
    "    \n",
    "    \n",
    "model(RandomForestClassifier(random_state=12))\n",
    "model(DecisionTreeClassifier(random_state=12))\n",
    "model(AdaBoostClassifier(random_state=12))\n",
    "model(GradientBoostingClassifier(random_state=12))"
   ]
  },
  {
   "cell_type": "markdown",
   "metadata": {},
   "source": [
    "Андерсэмплинг показал преимущество только с RandomForestClassifier.<br>\n",
    "Оверсэмплинг показывает лучшие результаты, потому что имеется возможность модели обучиться без дисбаланса на большЕм количестве данных.<br>\n",
    "Цель f1 = 0.59 выполняется почти у всех моделей.<br>\n",
    "Попробуем гиперпараметрами улучшить качество моделей."
   ]
  },
  {
   "cell_type": "markdown",
   "metadata": {},
   "source": [
    "#### RandomForestClassifier"
   ]
  },
  {
   "cell_type": "code",
   "execution_count": 14,
   "metadata": {
    "scrolled": true
   },
   "outputs": [
    {
     "name": "stdout",
     "output_type": "stream",
     "text": [
      "TomekLinks\n",
      "{'class_weight': 'balanced_subsample', 'min_samples_split': 6, 'n_estimators': 150, 'oob_score': False}\n",
      "f1 = 0.6381322957198443\n",
      "AUC-ROC = 0.7536574063211243 \n",
      "\n",
      "TN FP / FN TP \n",
      " [[1475   89]\n",
      " [ 190  246]] \n",
      "\n"
     ]
    }
   ],
   "source": [
    "from sklearn.model_selection import GridSearchCV\n",
    "from scipy.stats import randint\n",
    "\n",
    "def best_model(features_bm, target_bm, name_model):\n",
    "    params = {\n",
    "        'class_weight' : ['balanced', 'balanced_subsample'],\n",
    "        'n_estimators' : range(100, 175, 25),\n",
    "        'min_samples_split' : range(2, 10, 4),\n",
    "        'oob_score' : [False, True]\n",
    "        } \n",
    "\n",
    "\n",
    "    model = RandomForestClassifier(random_state=12)\n",
    "    model_cv = GridSearchCV(model, params, n_jobs=-1)\n",
    "\n",
    "    model_cv.fit(features_bm, target_bm)\n",
    "    predict_test = model_cv.predict(features_test)\n",
    "\n",
    "    print(name_model)\n",
    "    print(model_cv.best_params_)\n",
    "    print(f'f1 = {f1_score(target_test, predict_test)}')\n",
    "    print(f'AUC-ROC = {roc_auc_score(target_test, predict_test)} \\n')\n",
    "    print(f'TN FP / FN TP \\n {confusion_matrix(target_test, predict_test)} \\n')\n",
    "    \n",
    "best_model(features_tl, target_tl, 'TomekLinks')"
   ]
  },
  {
   "cell_type": "code",
   "execution_count": 15,
   "metadata": {},
   "outputs": [
    {
     "name": "stdout",
     "output_type": "stream",
     "text": [
      "SMOTE\n",
      "{'class_weight': 'balanced_subsample', 'min_samples_split': 2, 'n_estimators': 100, 'oob_score': False}\n",
      "f1 = 0.6132971506105834\n",
      "AUC-ROC = 0.7351973298294188 \n",
      "\n",
      "TN FP / FN TP \n",
      " [[1489   75]\n",
      " [ 210  226]] \n",
      "\n"
     ]
    }
   ],
   "source": [
    "best_model(features_sm, target_sm, 'SMOTE')"
   ]
  },
  {
   "cell_type": "markdown",
   "metadata": {},
   "source": [
    "#### DecisionTreeClassifier"
   ]
  },
  {
   "cell_type": "code",
   "execution_count": 16,
   "metadata": {},
   "outputs": [
    {
     "name": "stdout",
     "output_type": "stream",
     "text": [
      "{'class_weight': 'balanced', 'min_samples_leaf': 25, 'min_samples_split': 2, 'splitter': 'best'}\n",
      "TomekLinks\n",
      "f1 = 0.5857519788918205\n",
      "AUC-ROC = 0.7642336751214247 \n",
      "\n",
      "TN FP / FN TP \n",
      " [[1196  368]\n",
      " [ 103  333]] \n",
      "\n"
     ]
    }
   ],
   "source": [
    "def best_model(features_bm, target_bm, name_model):\n",
    "    params = {\n",
    "        'min_samples_split' : range(2, 10, 4),\n",
    "        'min_samples_leaf': range(5, 30, 5),\n",
    "        'class_weight' : ['balanced'],\n",
    "        'splitter' : ['best', 'random'],\n",
    "        } \n",
    "\n",
    "\n",
    "    model = DecisionTreeClassifier(random_state=12)\n",
    "    model_cv = GridSearchCV(model, params, n_jobs=-1)\n",
    "\n",
    "    model_cv.fit(features_bm, target_bm)\n",
    "    predict_test = model_cv.predict(features_test)\n",
    "\n",
    "    print(model_cv.best_params_)\n",
    "    print(name_model)\n",
    "    print(f'f1 = {f1_score(target_test, predict_test)}')\n",
    "    print(f'AUC-ROC = {roc_auc_score(target_test, predict_test)} \\n')\n",
    "    print(f'TN FP / FN TP \\n {confusion_matrix(target_test, predict_test)} \\n')\n",
    "    \n",
    "best_model(features_tl, target_tl, 'TomekLinks')"
   ]
  },
  {
   "cell_type": "code",
   "execution_count": 17,
   "metadata": {},
   "outputs": [
    {
     "name": "stdout",
     "output_type": "stream",
     "text": [
      "{'class_weight': 'balanced', 'min_samples_leaf': 25, 'min_samples_split': 2, 'splitter': 'best'}\n",
      "SMOTE\n",
      "f1 = 0.5960591133004927\n",
      "AUC-ROC = 0.7346840610995097 \n",
      "\n",
      "TN FP / FN TP \n",
      " [[1430  134]\n",
      " [ 194  242]] \n",
      "\n"
     ]
    }
   ],
   "source": [
    "best_model(features_sm, target_sm, 'SMOTE')"
   ]
  },
  {
   "cell_type": "markdown",
   "metadata": {},
   "source": [
    "#### AdaBoostClassifier"
   ]
  },
  {
   "cell_type": "code",
   "execution_count": 18,
   "metadata": {},
   "outputs": [
    {
     "name": "stdout",
     "output_type": "stream",
     "text": [
      "{'base_estimator': RandomForestClassifier(class_weight='balanced_subsample', min_samples_split=6,\n",
      "                       n_estimators=150), 'n_estimators': 3}\n",
      "TomekLinks\n",
      "f1 = 0.6248294679399727\n",
      "AUC-ROC = 0.7408755484643 \n",
      "\n",
      "TN FP / FN TP \n",
      " [[1496   68]\n",
      " [ 207  229]] \n",
      "\n"
     ]
    }
   ],
   "source": [
    "def best_model(features_bm, target_bm, name_model):\n",
    "    params = {\n",
    "        'base_estimator' : [\n",
    "            RandomForestClassifier(class_weight='balanced_subsample', min_samples_split=6, n_estimators=150)],\n",
    "        'n_estimators' : range(1, 9, 2)\n",
    "        } \n",
    "\n",
    "\n",
    "    model = AdaBoostClassifier(random_state=12)\n",
    "    model_cv = GridSearchCV(model, params, n_jobs=-1)\n",
    "\n",
    "    model_cv.fit(features_bm, target_bm)\n",
    "    predict_test = model_cv.predict(features_test)\n",
    "\n",
    "    print(model_cv.best_params_)\n",
    "    print(name_model)\n",
    "    print(f'f1 = {f1_score(target_test, predict_test)}')\n",
    "    print(f'AUC-ROC = {roc_auc_score(target_test, predict_test)} \\n')\n",
    "    print(f'TN FP / FN TP \\n {confusion_matrix(target_test, predict_test)} \\n')\n",
    "    \n",
    "best_model(features_tl, target_tl, 'TomekLinks')"
   ]
  },
  {
   "cell_type": "code",
   "execution_count": 19,
   "metadata": {},
   "outputs": [
    {
     "name": "stdout",
     "output_type": "stream",
     "text": [
      "{'base_estimator': RandomForestClassifier(class_weight='balanced_subsample', min_samples_split=6,\n",
      "                       n_estimators=150), 'n_estimators': 3}\n",
      "SMOTE\n",
      "f1 = 0.6209790209790209\n",
      "AUC-ROC = 0.7363646495694408 \n",
      "\n",
      "TN FP / FN TP \n",
      " [[1507   57]\n",
      " [ 214  222]] \n",
      "\n"
     ]
    }
   ],
   "source": [
    "best_model(features_sm, target_sm, 'SMOTE')"
   ]
  },
  {
   "cell_type": "markdown",
   "metadata": {},
   "source": [
    "#### GradientBoostingClassifier"
   ]
  },
  {
   "cell_type": "code",
   "execution_count": 20,
   "metadata": {},
   "outputs": [
    {
     "name": "stdout",
     "output_type": "stream",
     "text": [
      "{'learning_rate': 0.1, 'loss': 'exponential', 'min_samples_leaf': 1, 'min_samples_split': 6, 'n_estimators': 150, 'subsample': 0.30000000000000004}\n",
      "TomekLinks\n",
      "f1 = 0.6071428571428571\n",
      "AUC-ROC = 0.730742157253807 \n",
      "\n",
      "TN FP / FN TP \n",
      " [[1493   71]\n",
      " [ 215  221]] \n",
      "\n"
     ]
    }
   ],
   "source": [
    "def best_model(features_bm, target_bm, name_model):\n",
    "    params = {\n",
    "        'loss' : ['deviance', 'exponential'],\n",
    "        'learning_rate' : np.arange(0.1, 0.5, 0.2),\n",
    "        'n_estimators' : range(100, 200, 50),\n",
    "        'subsample' : np.arange(0.1, 0.5, 0.2),\n",
    "        'min_samples_split' : range(2, 10, 4),\n",
    "        'min_samples_leaf' : range(1, 9, 4)\n",
    "        } \n",
    "\n",
    "\n",
    "    model = GradientBoostingClassifier(random_state=12)\n",
    "    model_cv = GridSearchCV(model, params, n_jobs=-1)\n",
    "\n",
    "    model_cv.fit(features_bm, target_bm)\n",
    "    predict_test = model_cv.predict(features_test)\n",
    "\n",
    "    print(model_cv.best_params_)\n",
    "    print(name_model)\n",
    "    print(f'f1 = {f1_score(target_test, predict_test)}')\n",
    "    print(f'AUC-ROC = {roc_auc_score(target_test, predict_test)} \\n')\n",
    "    print(f'TN FP / FN TP \\n {confusion_matrix(target_test, predict_test)} \\n')\n",
    "    \n",
    "best_model(features_tl, target_tl, 'TomekLinks')"
   ]
  },
  {
   "cell_type": "code",
   "execution_count": 21,
   "metadata": {},
   "outputs": [
    {
     "name": "stdout",
     "output_type": "stream",
     "text": [
      "{'learning_rate': 0.1, 'loss': 'exponential', 'min_samples_leaf': 1, 'min_samples_split': 6, 'n_estimators': 150, 'subsample': 0.30000000000000004}\n",
      "SMOTE\n",
      "f1 = 0.6306306306306306\n",
      "AUC-ROC = 0.7502727656678946 \n",
      "\n",
      "TN FP / FN TP \n",
      " [[1468   96]\n",
      " [ 191  245]] \n",
      "\n"
     ]
    }
   ],
   "source": [
    "best_model(features_sm, target_sm, 'SMOTE')"
   ]
  },
  {
   "cell_type": "markdown",
   "metadata": {},
   "source": [
    "### Вывод"
   ]
  },
  {
   "cell_type": "markdown",
   "metadata": {},
   "source": [
    "У некоторых моделей удалось улучшить точность с помощью гиперпараметров.<br>\n",
    "Самое сильное влияние можно увидеть по DecisionTreeClassifier."
   ]
  }
 ],
 "metadata": {
  "kernelspec": {
   "display_name": "Python 3",
   "language": "python",
   "name": "python3"
  },
  "language_info": {
   "codemirror_mode": {
    "name": "ipython",
    "version": 3
   },
   "file_extension": ".py",
   "mimetype": "text/x-python",
   "name": "python",
   "nbconvert_exporter": "python",
   "pygments_lexer": "ipython3",
   "version": "3.7.6"
  }
 },
 "nbformat": 4,
 "nbformat_minor": 2
}
